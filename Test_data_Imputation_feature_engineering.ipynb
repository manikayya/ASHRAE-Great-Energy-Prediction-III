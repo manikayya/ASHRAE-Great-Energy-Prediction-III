{
  "nbformat": 4,
  "nbformat_minor": 0,
  "metadata": {
    "colab": {
      "name": "Test_data_Imputation_feature_engineering.ipynb",
      "provenance": [],
      "collapsed_sections": []
    },
    "kernelspec": {
      "name": "python3",
      "display_name": "Python 3"
    },
    "language_info": {
      "name": "python"
    },
    "accelerator": "GPU"
  },
  "cells": [
    {
      "cell_type": "code",
      "metadata": {
        "id": "kEe7ihE6-tUc"
      },
      "source": [
        "import os\n",
        "os.environ['KAGGLE_CONFIG_DIR']='/content'"
      ],
      "execution_count": null,
      "outputs": []
    },
    {
      "cell_type": "code",
      "metadata": {
        "id": "5dVp0oGOeTVE"
      },
      "source": [
        "!chmod 600 /content/kaggle.json"
      ],
      "execution_count": null,
      "outputs": []
    },
    {
      "cell_type": "code",
      "metadata": {
        "colab": {
          "base_uri": "https://localhost:8080/"
        },
        "id": "7f7CAQdF-5uc",
        "outputId": "3bcc6d58-ebda-4543-eec7-8595fbbe3981"
      },
      "source": [
        "!kaggle competitions download -c ashrae-energy-prediction"
      ],
      "execution_count": null,
      "outputs": [
        {
          "output_type": "stream",
          "text": [
            "Warning: Your Kaggle API key is readable by other users on this system! To fix this, you can run 'chmod 600 /content/kaggle.json'\n",
            "Warning: Looks like you're using an outdated API Version, please consider updating (server 1.5.12 / client 1.5.4)\n",
            "Downloading sample_submission.csv.zip to /content\n",
            " 75% 66.0M/88.4M [00:00<00:00, 149MB/s]\n",
            "100% 88.4M/88.4M [00:00<00:00, 180MB/s]\n",
            "Downloading test.csv.zip to /content\n",
            " 95% 159M/167M [00:00<00:00, 201MB/s]\n",
            "100% 167M/167M [00:00<00:00, 204MB/s]\n",
            "Downloading weather_train.csv.zip to /content\n",
            "  0% 0.00/1.27M [00:00<?, ?B/s]\n",
            "100% 1.27M/1.27M [00:00<00:00, 179MB/s]\n",
            "Downloading building_metadata.csv to /content\n",
            "  0% 0.00/44.5k [00:00<?, ?B/s]\n",
            "100% 44.5k/44.5k [00:00<00:00, 45.9MB/s]\n",
            "Downloading train.csv.zip to /content\n",
            " 94% 112M/120M [00:00<00:00, 183MB/s] \n",
            "100% 120M/120M [00:00<00:00, 202MB/s]\n",
            "Downloading weather_test.csv.zip to /content\n",
            "  0% 0.00/2.53M [00:00<?, ?B/s]\n",
            "100% 2.53M/2.53M [00:00<00:00, 148MB/s]\n"
          ],
          "name": "stdout"
        }
      ]
    },
    {
      "cell_type": "code",
      "metadata": {
        "colab": {
          "base_uri": "https://localhost:8080/"
        },
        "id": "Goe2KEWKRIJ9",
        "outputId": "d1fb8cee-0a96-4c71-b71e-10c941e8b9b1"
      },
      "source": [
        "pip install pyunpack"
      ],
      "execution_count": null,
      "outputs": [
        {
          "output_type": "stream",
          "text": [
            "Collecting pyunpack\n",
            "  Downloading https://files.pythonhosted.org/packages/83/29/020436b1d8e96e5f26fa282b9c3c13a3b456a36b9ea2edc87c5fed008369/pyunpack-0.2.2-py2.py3-none-any.whl\n",
            "Collecting easyprocess\n",
            "  Downloading https://files.pythonhosted.org/packages/48/3c/75573613641c90c6d094059ac28adb748560d99bd27ee6f80cce398f404e/EasyProcess-0.3-py2.py3-none-any.whl\n",
            "Collecting entrypoint2\n",
            "  Downloading https://files.pythonhosted.org/packages/8a/b0/8ef4b1d8be02448d164c52466530059d7f57218655d21309a0c4236d7454/entrypoint2-0.2.4-py3-none-any.whl\n",
            "Installing collected packages: easyprocess, entrypoint2, pyunpack\n",
            "Successfully installed easyprocess-0.3 entrypoint2-0.2.4 pyunpack-0.2.2\n"
          ],
          "name": "stdout"
        }
      ]
    },
    {
      "cell_type": "code",
      "metadata": {
        "colab": {
          "base_uri": "https://localhost:8080/"
        },
        "id": "wZg2gzxVhR3o",
        "outputId": "ae99944f-ebe7-4bb5-8269-e2bf09bd1c14"
      },
      "source": [
        "pip install patool"
      ],
      "execution_count": null,
      "outputs": [
        {
          "output_type": "stream",
          "text": [
            "Collecting patool\n",
            "\u001b[?25l  Downloading https://files.pythonhosted.org/packages/43/94/52243ddff508780dd2d8110964320ab4851134a55ab102285b46e740f76a/patool-1.12-py2.py3-none-any.whl (77kB)\n",
            "\r\u001b[K     |████▎                           | 10kB 23.3MB/s eta 0:00:01\r\u001b[K     |████████▌                       | 20kB 28.9MB/s eta 0:00:01\r\u001b[K     |████████████▊                   | 30kB 33.8MB/s eta 0:00:01\r\u001b[K     |█████████████████               | 40kB 30.1MB/s eta 0:00:01\r\u001b[K     |█████████████████████▏          | 51kB 31.4MB/s eta 0:00:01\r\u001b[K     |█████████████████████████▍      | 61kB 32.4MB/s eta 0:00:01\r\u001b[K     |█████████████████████████████▋  | 71kB 30.8MB/s eta 0:00:01\r\u001b[K     |████████████████████████████████| 81kB 10.3MB/s \n",
            "\u001b[?25hInstalling collected packages: patool\n",
            "Successfully installed patool-1.12\n"
          ],
          "name": "stdout"
        }
      ]
    },
    {
      "cell_type": "code",
      "metadata": {
        "id": "I7jv5IUUFYsi"
      },
      "source": [
        "from pyunpack import Archive\n",
        "Archive('/content/test.csv.zip').extractall('/content/')\n",
        "Archive('/content/weather_test.csv.zip').extractall('/content/')"
      ],
      "execution_count": null,
      "outputs": []
    },
    {
      "cell_type": "code",
      "metadata": {
        "id": "FtF8d79pGDY9"
      },
      "source": [
        "#importing libraries\n",
        "import pandas as pd\n",
        "import numpy as np\n",
        "import matplotlib.pyplot as plt\n",
        "import warnings\n",
        "warnings.filterwarnings('ignore')\n",
        "import seaborn as sns\n",
        "from sklearn.preprocessing import LabelEncoder\n",
        "import warnings\n",
        "warnings.filterwarnings('ignore')\n",
        "from datetime import timedelta"
      ],
      "execution_count": null,
      "outputs": []
    },
    {
      "cell_type": "code",
      "metadata": {
        "colab": {
          "base_uri": "https://localhost:8080/"
        },
        "id": "6n3pR58k9KF4",
        "outputId": "f089526e-139a-4e40-d7ed-74e4ca204528"
      },
      "source": [
        "from google.colab import drive\n",
        "drive.mount('/content/drive')"
      ],
      "execution_count": null,
      "outputs": [
        {
          "output_type": "stream",
          "text": [
            "Mounted at /content/drive\n"
          ],
          "name": "stdout"
        }
      ]
    },
    {
      "cell_type": "code",
      "metadata": {
        "colab": {
          "base_uri": "https://localhost:8080/"
        },
        "id": "hMAOf29PSYSD",
        "outputId": "37b7fddc-7b7a-4d36-8ff7-44a7c54b8a9e"
      },
      "source": [
        "%%time\n",
        "\n",
        "# Read data...\n",
        "root = '/content'\n",
        "\n",
        "test_df = (pd.read_csv(os.path.join(root, 'test.csv')))\n",
        "weather_test_df = (pd.read_csv(os.path.join(root, 'weather_test.csv')))\n",
        "building_meta_df = (pd.read_csv(os.path.join(root, 'building_metadata.csv')))"
      ],
      "execution_count": null,
      "outputs": [
        {
          "output_type": "stream",
          "text": [
            "CPU times: user 10.1 s, sys: 1.66 s, total: 11.7 s\n",
            "Wall time: 11.7 s\n"
          ],
          "name": "stdout"
        }
      ]
    },
    {
      "cell_type": "code",
      "metadata": {
        "colab": {
          "base_uri": "https://localhost:8080/"
        },
        "id": "dUo-XNt2bkz8",
        "outputId": "74a38bf6-decf-415e-8c7c-f03ba47b3ae1"
      },
      "source": [
        "#https://www.kaggle.com/corochann/ashrae-feather-format-for-fast-loading\n",
        "#feather is used to reduce the size and load the dataset quickly\n",
        "%%time\n",
        "\n",
        "test_df.to_feather('test.feather')\n",
        "weather_test_df.to_feather('weather_test.feather')\n",
        "building_meta_df.to_feather('building_metadata.feather')"
      ],
      "execution_count": null,
      "outputs": [
        {
          "output_type": "stream",
          "text": [
            "CPU times: user 2.46 s, sys: 1.39 s, total: 3.85 s\n",
            "Wall time: 4.04 s\n"
          ],
          "name": "stdout"
        }
      ]
    },
    {
      "cell_type": "code",
      "metadata": {
        "colab": {
          "base_uri": "https://localhost:8080/"
        },
        "id": "of0fjiEMGg7L",
        "outputId": "18705f1a-2728-4a99-a284-4da71c0958c6"
      },
      "source": [
        "%%time\n",
        "\n",
        "test_df = pd.read_feather('test.feather')\n",
        "weather_test_df = pd.read_feather('weather_test.feather')\n",
        "building_meta_df = pd.read_feather('building_metadata.feather')"
      ],
      "execution_count": null,
      "outputs": [
        {
          "output_type": "stream",
          "text": [
            "CPU times: user 2.15 s, sys: 1.4 s, total: 3.55 s\n",
            "Wall time: 2.79 s\n"
          ],
          "name": "stdout"
        }
      ]
    },
    {
      "cell_type": "markdown",
      "metadata": {
        "id": "Uu-grsO2g8A9"
      },
      "source": [
        "> Function to reduce memory usage"
      ]
    },
    {
      "cell_type": "code",
      "metadata": {
        "id": "u2dnzh3qSakm"
      },
      "source": [
        "def reduce_mem_usage(df, verbose=True):\n",
        "    numerics = ['int16', 'int32', 'int64', 'float16', 'float32', 'float64']\n",
        "    start_mem = df.memory_usage().sum() / 1024**2    \n",
        "    for col in df.columns:\n",
        "        col_type = df[col].dtypes\n",
        "        if col_type in numerics:\n",
        "            c_min = df[col].min()\n",
        "            c_max = df[col].max()\n",
        "            if str(col_type)[:3] == 'int':\n",
        "                if c_min > np.iinfo(np.int8).min and c_max < np.iinfo(np.int8).max:\n",
        "                    df[col] = df[col].astype(np.int8)\n",
        "                elif c_min > np.iinfo(np.int16).min and c_max < np.iinfo(np.int16).max:\n",
        "                    df[col] = df[col].astype(np.int16)\n",
        "                elif c_min > np.iinfo(np.int32).min and c_max < np.iinfo(np.int32).max:\n",
        "                    df[col] = df[col].astype(np.int32)\n",
        "                elif c_min > np.iinfo(np.int64).min and c_max < np.iinfo(np.int64).max:\n",
        "                    df[col] = df[col].astype(np.int64)  \n",
        "            else:\n",
        "                if c_min > np.finfo(np.float16).min and c_max < np.finfo(np.float16).max:\n",
        "                    df[col] = df[col].astype(np.float16)\n",
        "                elif c_min > np.finfo(np.float32).min and c_max < np.finfo(np.float32).max:\n",
        "                    df[col] = df[col].astype(np.float32)\n",
        "                else:\n",
        "                    df[col] = df[col].astype(np.float64)    \n",
        "    end_mem = df.memory_usage().sum() / 1024**2\n",
        "    if verbose: print('Mem. usage decreased to {:5.2f} Mb ({:.1f}% reduction)'.format(end_mem, 100 * (start_mem - end_mem) / start_mem))\n",
        "    return df"
      ],
      "execution_count": null,
      "outputs": []
    },
    {
      "cell_type": "code",
      "metadata": {
        "colab": {
          "base_uri": "https://localhost:8080/"
        },
        "id": "r-wvkwRLSigy",
        "outputId": "938485c7-b991-4511-c535-a587deccc87c"
      },
      "source": [
        "test_df = reduce_mem_usage(test_df)\n",
        "weather_test_df = reduce_mem_usage(weather_test_df)\n",
        "building_meta_df = reduce_mem_usage(building_meta_df)"
      ],
      "execution_count": null,
      "outputs": [
        {
          "output_type": "stream",
          "text": [
            "Mem. usage decreased to 596.49 Mb (53.1% reduction)\n",
            "Mem. usage decreased to  6.08 Mb (68.1% reduction)\n",
            "Mem. usage decreased to  0.03 Mb (60.3% reduction)\n"
          ],
          "name": "stdout"
        }
      ]
    },
    {
      "cell_type": "code",
      "metadata": {
        "id": "L043rANaHDix"
      },
      "source": [
        "test_data = test_df.merge(building_meta_df,how='left',on='building_id')\n",
        "test_data = test_data.merge(weather_test_df,how='left',on=['site_id','timestamp']) "
      ],
      "execution_count": null,
      "outputs": []
    },
    {
      "cell_type": "code",
      "metadata": {
        "id": "C4W8emj_HSSj"
      },
      "source": [
        "# converting timestamp to datetime object\n",
        "test_data['timestamp'] = pd.to_datetime(test_data['timestamp'])"
      ],
      "execution_count": null,
      "outputs": []
    },
    {
      "cell_type": "markdown",
      "metadata": {
        "id": "d2YuRFg5xLJY"
      },
      "source": [
        "#Dealing with Missing data\n"
      ]
    },
    {
      "cell_type": "code",
      "metadata": {
        "colab": {
          "base_uri": "https://localhost:8080/"
        },
        "id": "9Q0d0ZXBmX6w",
        "outputId": "8a649aac-6fdd-4e4b-a964-a7bac2c8c1e4"
      },
      "source": [
        "features_with_na = [feature for feature in test_data.columns if test_data[feature].isnull().sum()>1]\n",
        "for feature in features_with_na:\n",
        "    print(feature+' : '+str(np.round(test_data[feature].isnull().mean(),4)))"
      ],
      "execution_count": null,
      "outputs": [
        {
          "output_type": "stream",
          "text": [
            "year_built : 0.5899\n",
            "floor_count : 0.8261\n",
            "air_temperature : 0.0053\n",
            "cloud_coverage : 0.4687\n",
            "dew_temperature : 0.0063\n",
            "precip_depth_1_hr : 0.1871\n",
            "sea_level_pressure : 0.0604\n",
            "wind_direction : 0.0714\n",
            "wind_speed : 0.0072\n"
          ],
          "name": "stdout"
        }
      ]
    },
    {
      "cell_type": "markdown",
      "metadata": {
        "id": "jiVIWz9N0M5A"
      },
      "source": [
        "* Remove features which are having >80 of missing data. So, we remove floor_count feature.<br>\n",
        "* For remaining missing values features we have to impute."
      ]
    },
    {
      "cell_type": "code",
      "metadata": {
        "id": "Iw2Fexmd0j_2"
      },
      "source": [
        "#removing floor_count feature from data\n",
        "test_data.drop('floor_count',axis=1,inplace=True)\n",
        "test_data.reset_index(inplace=True)"
      ],
      "execution_count": null,
      "outputs": []
    },
    {
      "cell_type": "code",
      "metadata": {
        "id": "ApLlxTvX6J0_"
      },
      "source": [
        "test_data['day'] = pd.to_datetime(test_data['timestamp']).dt.dayofyear\n",
        "test_data['month'] = pd.to_datetime(test_data['timestamp']).dt.month"
      ],
      "execution_count": null,
      "outputs": []
    },
    {
      "cell_type": "code",
      "metadata": {
        "id": "AHvl08e5-_lw"
      },
      "source": [
        "test_data[['dew_temperature','cloud_coverage','year_built','air_temperature','precip_depth_1_hr','sea_level_pressure','wind_direction','wind_speed']] = test_data[['dew_temperature','cloud_coverage','year_built','air_temperature','precip_depth_1_hr','sea_level_pressure','wind_direction','wind_speed']].astype(np.float32)"
      ],
      "execution_count": null,
      "outputs": []
    },
    {
      "cell_type": "code",
      "metadata": {
        "colab": {
          "base_uri": "https://localhost:8080/"
        },
        "id": "mnfT1fPkBYwI",
        "outputId": "9a4d42d5-594f-4cf7-837e-4648e4d7c982"
      },
      "source": [
        "test_data = reduce_mem_usage(test_data)"
      ],
      "execution_count": null,
      "outputs": [
        {
          "output_type": "stream",
          "text": [
            "Mem. usage decreased to 2028.06 Mb (39.3% reduction)\n"
          ],
          "name": "stdout"
        }
      ]
    },
    {
      "cell_type": "code",
      "metadata": {
        "id": "Ivc0vSuQItR5"
      },
      "source": [
        "#filling nan values with interpolation method\n",
        "test_data['air_temperature'] = test_data['air_temperature'].interpolate(method='linear').ffill().bfill()\n",
        "test_data['dew_temperature'] = test_data['dew_temperature'].interpolate(method='linear').ffill().bfill()\n",
        "test_data['cloud_coverage'] = test_data['cloud_coverage'].interpolate(method='linear').ffill().bfill()\n",
        "test_data['wind_speed'] = test_data['wind_speed'].interpolate(method='linear').ffill().bfill()\n",
        "test_data['wind_direction'] = test_data['wind_direction'].interpolate(method='linear').ffill().bfill()\n",
        "test_data['sea_level_pressure'] = test_data['sea_level_pressure'].interpolate(method='linear').ffill().bfill()\n",
        "test_data['precip_depth_1_hr'] = test_data['precip_depth_1_hr'].interpolate(method='linear').ffill().bfill()"
      ],
      "execution_count": null,
      "outputs": []
    },
    {
      "cell_type": "code",
      "metadata": {
        "id": "-_cZthcQB7xQ"
      },
      "source": [
        "#for imputing year interpolation is not a good idea. so, by taking median grouping it by with site_id,month,day.\n",
        "fill=test_data.groupby(['site_id','day','month'])['year_built'].median().reset_index()\n",
        "fill.rename(columns={'year_built':'filler'},inplace=True)\n",
        "fill['filler'].fillna(method='ffill',inplace=True)\n",
        "test_data=test_data.merge(fill,how='left',on=['site_id','day','month'])\n",
        "test_data['year_built'].fillna(test_data['filler'],inplace=True)\n",
        "test_data.drop(labels=['filler'],axis=1,inplace=True)"
      ],
      "execution_count": null,
      "outputs": []
    },
    {
      "cell_type": "markdown",
      "metadata": {
        "id": "nIA2g-3NqRB-"
      },
      "source": [
        "##LabelEncoding primary_use feature"
      ]
    },
    {
      "cell_type": "code",
      "metadata": {
        "id": "EdoCLjvLnkiv"
      },
      "source": [
        "le = LabelEncoder()\n",
        "test_data['primary_use'] = le.fit_transform(test_data['primary_use'])"
      ],
      "execution_count": null,
      "outputs": []
    },
    {
      "cell_type": "markdown",
      "metadata": {
        "id": "8rH0-VpWqvCC"
      },
      "source": [
        "## Alignment of air_temperature according to local_temperature"
      ]
    },
    {
      "cell_type": "code",
      "metadata": {
        "id": "ByJRDWryoOc3"
      },
      "source": [
        "#air_temperature maximizes around 19:00PM to 23:00PM for 13 different sites which needs to be corrected \n",
        "#so that the model can best identify the energy pattern according to the temperature variations over the hour\n",
        "\n",
        "align_hours = {0:5,2:9,3:5,4:8,6:6,7:6,8:5,9:7,10:8,11:6,13:7,14:5,15:5} \n",
        "def alignment(data,align_hours):\n",
        "    data.reset_index(inplace=True)\n",
        "    data['timestamp_alignment'] = data['timestamp'] - timedelta(hours=align_hours)\n",
        "    data_air_temp = data[['timestamp_alignment','building_id','meter','air_temperature']].copy()\n",
        "    data.drop(['air_temperature','timestamp_alignment'],axis=1,inplace=True)\n",
        "    data['air_temperature_alignment'] = data_air_temp[data_air_temp['timestamp_alignment'].isin(data['timestamp'])].reset_index(drop=True)['air_temperature']\n",
        "    data['air_temperature_alignment'] = data['air_temperature_alignment'].interpolate()\n",
        "    data.rename(columns={'air_temperature_alignment':'air_temperature','timestamp_alignment':'timestamp'},inplace=True)\n",
        "    data.drop(['level_0','index'],axis=1,inplace=True)\n",
        "    return data"
      ],
      "execution_count": null,
      "outputs": []
    },
    {
      "cell_type": "code",
      "metadata": {
        "id": "JtksBdQTD96g"
      },
      "source": [
        "def no_alignment(data):\n",
        "    data.reset_index(inplace=True)\n",
        "    data.drop(['level_0','index'],axis=1,inplace=True)\n",
        "    return data"
      ],
      "execution_count": null,
      "outputs": []
    },
    {
      "cell_type": "code",
      "metadata": {
        "id": "jpJWuJoK4ViJ"
      },
      "source": [
        "air_temp_site_0_alignment = alignment(test_data.query(f'site_id==0'),5)\n",
        "air_temp_site_1_alignment = no_alignment(test_data.query(f'site_id==1'))\n",
        "air_temp_site_2_alignment = alignment(test_data.query(f'site_id==2'),9)\n",
        "air_temp_site_3_alignment = alignment(test_data.query(f'site_id==3'),5)\n",
        "air_temp_site_4_alignment = alignment(test_data.query(f'site_id==4'),8)\n",
        "air_temp_site_5_alignment = no_alignment(test_data.query(f'site_id==5'))\n",
        "air_temp_site_6_alignment = alignment(test_data.query(f'site_id==6'),6)\n",
        "air_temp_site_7_alignment = alignment(test_data.query(f'site_id==7'),6)\n",
        "air_temp_site_8_alignment = alignment(test_data.query(f'site_id==8'),5)\n",
        "air_temp_site_9_alignment = alignment(test_data.query(f'site_id==9'),7)\n",
        "air_temp_site_10_alignment = alignment(test_data.query(f'site_id==10'),8)\n",
        "air_temp_site_11_alignment = alignment(test_data.query(f'site_id==11'),6)\n",
        "air_temp_site_12_alignment = no_alignment(test_data.query(f'site_id==12'))\n",
        "air_temp_site_13_alignment = alignment(test_data.query(f'site_id==13'),7)\n",
        "air_temp_site_14_alignment = alignment(test_data.query(f'site_id==14'),5)\n",
        "air_temp_site_15_alignment = alignment(test_data.query(f'site_id==15'),5)"
      ],
      "execution_count": null,
      "outputs": []
    },
    {
      "cell_type": "code",
      "metadata": {
        "id": "jdXlm7yKFLzX"
      },
      "source": [
        "test_data_final = pd.concat([air_temp_site_0_alignment,air_temp_site_1_alignment,air_temp_site_2_alignment,air_temp_site_3_alignment,air_temp_site_4_alignment,air_temp_site_5_alignment,air_temp_site_6_alignment,air_temp_site_7_alignment,air_temp_site_8_alignment,air_temp_site_9_alignment,air_temp_site_10_alignment,air_temp_site_11_alignment,air_temp_site_12_alignment,air_temp_site_13_alignment,air_temp_site_14_alignment,air_temp_site_15_alignment],axis=0)"
      ],
      "execution_count": null,
      "outputs": []
    },
    {
      "cell_type": "code",
      "metadata": {
        "id": "Y0C6V2emGOJS"
      },
      "source": [
        "#sort datapoints based on timestamp,building_id\n",
        "test_data_final = test_data_final.sort_values(['timestamp','building_id'])"
      ],
      "execution_count": null,
      "outputs": []
    },
    {
      "cell_type": "code",
      "metadata": {
        "id": "gAAJ5vBxHr9j"
      },
      "source": [
        "test_data_final['hour'] = test_data_final['timestamp'].dt.hour\n",
        "test_data_final['weekday'] = test_data_final['timestamp'].dt.weekday"
      ],
      "execution_count": null,
      "outputs": []
    },
    {
      "cell_type": "markdown",
      "metadata": {
        "id": "H7GAdBNYfDly"
      },
      "source": [
        "* During day time in working hours the meter readings are high.\n",
        "* when compared the days of week the weekdays have more meter readings than weekands. "
      ]
    },
    {
      "cell_type": "code",
      "metadata": {
        "id": "UfFn9nDhabTD"
      },
      "source": [
        "test_data_final['is_winter_month']=(test_data_final['month'].isin([12,1,2])).astype(int)\n",
        "test_data_final['is_summer_month']=(test_data_final['month'].isin([6,7,8])).astype(int)"
      ],
      "execution_count": null,
      "outputs": []
    },
    {
      "cell_type": "markdown",
      "metadata": {
        "id": "aHIs-Zivf9Y5"
      },
      "source": [
        "* chilled water readings are low during winter and high during summer.\n",
        "* Hot water readings are low during summer and high during summer."
      ]
    },
    {
      "cell_type": "code",
      "metadata": {
        "colab": {
          "base_uri": "https://localhost:8080/"
        },
        "id": "uGeRIMc_rQvq",
        "outputId": "095d9682-cd1c-4046-fc41-3a3f58451a95"
      },
      "source": [
        "test_data_final = reduce_mem_usage(test_data_final)"
      ],
      "execution_count": null,
      "outputs": [
        {
          "output_type": "stream",
          "text": [
            "Mem. usage decreased to 2067.83 Mb (49.5% reduction)\n"
          ],
          "name": "stdout"
        }
      ]
    },
    {
      "cell_type": "code",
      "metadata": {
        "colab": {
          "base_uri": "https://localhost:8080/",
          "height": 35
        },
        "id": "dy_E-hwaXQWl",
        "outputId": "c41505de-1b78-4ea9-ff25-b140b2a6ea5c"
      },
      "source": [
        "import tensorflow as tf\n",
        "tf.test.gpu_device_name()"
      ],
      "execution_count": null,
      "outputs": [
        {
          "output_type": "execute_result",
          "data": {
            "application/vnd.google.colaboratory.intrinsic+json": {
              "type": "string"
            },
            "text/plain": [
              "'/device:GPU:0'"
            ]
          },
          "metadata": {
            "tags": []
          },
          "execution_count": 7
        }
      ]
    },
    {
      "cell_type": "code",
      "metadata": {
        "id": "rbMR23wuJ5Uu"
      },
      "source": [
        "holidays = [\"2016-01-01\", \"2016-01-18\", \"2016-02-15\", \"2016-05-30\", \"2016-07-04\",\n",
        "            \"2016-09-05\", \"2016-10-10\", \"2016-11-11\", \"2016-11-24\", \"2016-12-25\"]\n",
        "h_date = pd.to_datetime(holidays,yearfirst=True)\n",
        "test_data_final['is_pub_holiday'] = test_data_final['timestamp'].dt.date.isin(h_date.date).astype(int)\n",
        "test_data_final['is_weekday'] = ((~test_data_final['timestamp'].dt.date.isin(h_date.date))&(test_data_final['weekday'].isin([0,1,2,3,4]))).astype(int)"
      ],
      "execution_count": null,
      "outputs": []
    },
    {
      "cell_type": "markdown",
      "metadata": {
        "id": "YN--COWlhixq"
      },
      "source": [
        "* Energy requirements might be different from holidays to working days."
      ]
    },
    {
      "cell_type": "code",
      "metadata": {
        "id": "JscSaXM8Tk2y"
      },
      "source": [
        "#https://www.kaggle.com/c/ashrae-energy-prediction/discussion/124984\n",
        "\n",
        "#horizsolar is supposed to calculate the solar horizontal radiation coming into the building.\n",
        "latitude_dict = {0 :28.5383,1 :50.9097,2 :33.4255,3 :38.9072,4 :37.8715,5 :50.9097,6 :40.7128,7 :45.4215,8 :28.5383,9 :30.2672,10 :40.10677,11 :45.4215,12 :53.3498,13 :44.9375,14 :38.0293,15: 40.7128,}\n",
        "\n",
        "test_data_final['latitude'] = test_data_final['site_id'].map(latitude_dict)\n",
        "test_data_final['solarHour'] = (test_data_final['hour']-12)*15 \n",
        "test_data_final['solarDec'] = -23.45*np.cos(np.deg2rad(360*(test_data_final['day']+10)/365)) \n",
        "test_data_final['horizsolar'] = np.cos(np.deg2rad(test_data_final['solarHour']))*np.cos(np.deg2rad(test_data_final['solarDec']))*np.cos(np.deg2rad(test_data_final['latitude'])) + np.sin(np.deg2rad(test_data_final['solarDec']))*np.sin(np.deg2rad(test_data_final['latitude']))\n",
        "test_data_final['horizsolar'] = test_data_final['horizsolar'].apply(lambda x: 0 if x <0 else x)\n",
        "\n",
        "test_data_final = test_data_final.drop(['latitude','solarHour','solarDec'], axis=1)\n",
        "    # The sensible heat is a form of energy emitted into the atmosphere or absorbed\n",
        "test_data_final['Sensible_Heat'] = 0.5274*(10.**(-4.))*test_data_final['square_feet']*(75.-test_data_final['air_temperature'])\n",
        "\n",
        "test_data_final['relative_humidity'] = 100 * (np.exp((17.625 * test_data_final['dew_temperature']) / (243.04 + test_data_final['dew_temperature'])) / np.exp((17.625 * test_data_final['air_temperature'])/(243.04 + test_data_final['air_temperature'])))"
      ],
      "execution_count": null,
      "outputs": []
    },
    {
      "cell_type": "markdown",
      "metadata": {
        "id": "weN0nTUajLlz"
      },
      "source": [
        "* Humidity affects the energy requirements of the buildings. As humidity increases the load on the HVAC system increases due to which the meter readings are affected. so this feature will help to learn the energy requirements according to the humidity.\n"
      ]
    },
    {
      "cell_type": "code",
      "metadata": {
        "id": "ix9M1PY3nip5"
      },
      "source": [
        "#https://journals.sagepub.com/doi/pdf/10.1177/1550147719877616\n",
        "#https://en.wikipedia.org/wiki/Wind_chill\n",
        "\n",
        "test_data_final['discomfort_index'] = (1.8*test_data_final['air_temperature'] + 32) - ((0.55-0.0055*test_data_final['relative_humidity'])*(1.8 * test_data_final['air_temperature'] - 26))\n",
        "test_data_final['wind_chill'] = 13.12 + 0.6215*test_data_final['air_temperature'] - 11.37*(test_data_final['wind_speed']**0.16) + 0.3965*test_data_final['air_temperature']*(test_data_final['wind_speed']**0.16)"
      ],
      "execution_count": null,
      "outputs": []
    },
    {
      "cell_type": "markdown",
      "metadata": {
        "id": "iHsEETChqtVO"
      },
      "source": [
        "* As the air_temperature falls, the chilling effect of any wind that is present increases.\n",
        "* As index for measuring the discomfort felt in warm weather as a result of the combined effects of the temperature and humidity of the air."
      ]
    },
    {
      "cell_type": "code",
      "metadata": {
        "id": "zHDHcdToYltW"
      },
      "source": [
        "busy_hours = test_data_final.set_index(['timestamp']).between_time('06:00:00','18:00:00').reset_index()\n",
        "busy_hours_timestamp = [i for i in busy_hours['timestamp']]\n",
        "test_data_final['busy_hours'] = ((~test_data_final['timestamp'].dt.date.isin(h_date.date))&(test_data_final['timestamp'].isin(busy_hours_timestamp))).astype(int)"
      ],
      "execution_count": null,
      "outputs": []
    },
    {
      "cell_type": "markdown",
      "metadata": {
        "id": "Phg-Zx3Tu2Mk"
      },
      "source": [
        "* As the meter_readings are high during day time than night."
      ]
    },
    {
      "cell_type": "code",
      "metadata": {
        "colab": {
          "base_uri": "https://localhost:8080/"
        },
        "id": "ipCZJupoZ7O0",
        "outputId": "b7c3a68c-6b0d-46c8-cd9e-3cdd1621b931"
      },
      "source": [
        "test_data_final = reduce_mem_usage(test_data_final)"
      ],
      "execution_count": null,
      "outputs": [
        {
          "output_type": "stream",
          "text": [
            "Mem. usage decreased to 2783.62 Mb (9.1% reduction)\n"
          ],
          "name": "stdout"
        }
      ]
    },
    {
      "cell_type": "code",
      "metadata": {
        "id": "XSfM-Azyx_2K"
      },
      "source": [
        "test_data_final = test_data_final.reset_index()\n",
        "test_data_final.to_feather('/content/drive/MyDrive/Ashrae_Great_Energy_Prediction/test_data_final.feather')"
      ],
      "execution_count": null,
      "outputs": []
    },
    {
      "cell_type": "code",
      "metadata": {
        "colab": {
          "base_uri": "https://localhost:8080/",
          "height": 305
        },
        "id": "wnlf81YKlu_C",
        "outputId": "0bbedd43-773c-4fd3-d14f-2eb3d7ef4cb7"
      },
      "source": [
        "test_data_final.head()"
      ],
      "execution_count": null,
      "outputs": [
        {
          "output_type": "execute_result",
          "data": {
            "text/html": [
              "<div>\n",
              "<style scoped>\n",
              "    .dataframe tbody tr th:only-of-type {\n",
              "        vertical-align: middle;\n",
              "    }\n",
              "\n",
              "    .dataframe tbody tr th {\n",
              "        vertical-align: top;\n",
              "    }\n",
              "\n",
              "    .dataframe thead th {\n",
              "        text-align: right;\n",
              "    }\n",
              "</style>\n",
              "<table border=\"1\" class=\"dataframe\">\n",
              "  <thead>\n",
              "    <tr style=\"text-align: right;\">\n",
              "      <th></th>\n",
              "      <th>index</th>\n",
              "      <th>row_id</th>\n",
              "      <th>building_id</th>\n",
              "      <th>meter</th>\n",
              "      <th>timestamp</th>\n",
              "      <th>site_id</th>\n",
              "      <th>primary_use</th>\n",
              "      <th>square_feet</th>\n",
              "      <th>year_built</th>\n",
              "      <th>cloud_coverage</th>\n",
              "      <th>dew_temperature</th>\n",
              "      <th>precip_depth_1_hr</th>\n",
              "      <th>sea_level_pressure</th>\n",
              "      <th>wind_direction</th>\n",
              "      <th>wind_speed</th>\n",
              "      <th>day</th>\n",
              "      <th>month</th>\n",
              "      <th>air_temperature</th>\n",
              "      <th>hour</th>\n",
              "      <th>weekday</th>\n",
              "      <th>is_winter_month</th>\n",
              "      <th>is_summer_month</th>\n",
              "      <th>is_pub_holiday</th>\n",
              "      <th>is_weekday</th>\n",
              "      <th>horizsolar</th>\n",
              "      <th>Sensible_Heat</th>\n",
              "      <th>relative_humidity</th>\n",
              "      <th>days_in_month</th>\n",
              "      <th>hour_x</th>\n",
              "      <th>hour_y</th>\n",
              "      <th>day_x</th>\n",
              "      <th>day_y</th>\n",
              "      <th>month_x</th>\n",
              "      <th>month_y</th>\n",
              "      <th>discomfort_index</th>\n",
              "      <th>wind_chill</th>\n",
              "      <th>busy_hours</th>\n",
              "    </tr>\n",
              "  </thead>\n",
              "  <tbody>\n",
              "    <tr>\n",
              "      <th>0</th>\n",
              "      <td>0</td>\n",
              "      <td>0</td>\n",
              "      <td>0</td>\n",
              "      <td>0</td>\n",
              "      <td>2017-01-01</td>\n",
              "      <td>0</td>\n",
              "      <td>0</td>\n",
              "      <td>7432</td>\n",
              "      <td>2008.0</td>\n",
              "      <td>4.0</td>\n",
              "      <td>11.703125</td>\n",
              "      <td>0.0</td>\n",
              "      <td>1021.5</td>\n",
              "      <td>100.0</td>\n",
              "      <td>3.599609</td>\n",
              "      <td>1</td>\n",
              "      <td>1</td>\n",
              "      <td>15.601562</td>\n",
              "      <td>0</td>\n",
              "      <td>6</td>\n",
              "      <td>1</td>\n",
              "      <td>0</td>\n",
              "      <td>0</td>\n",
              "      <td>0</td>\n",
              "      <td>0.008896</td>\n",
              "      <td>23.281250</td>\n",
              "      <td>77.5625</td>\n",
              "      <td>31</td>\n",
              "      <td>0.0</td>\n",
              "      <td>1.0</td>\n",
              "      <td>-0.81543</td>\n",
              "      <td>0.579102</td>\n",
              "      <td>-0.987793</td>\n",
              "      <td>0.154297</td>\n",
              "      <td>59.8125</td>\n",
              "      <td>16.453125</td>\n",
              "      <td>0</td>\n",
              "    </tr>\n",
              "    <tr>\n",
              "      <th>1</th>\n",
              "      <td>1</td>\n",
              "      <td>1</td>\n",
              "      <td>1</td>\n",
              "      <td>0</td>\n",
              "      <td>2017-01-01</td>\n",
              "      <td>0</td>\n",
              "      <td>0</td>\n",
              "      <td>2720</td>\n",
              "      <td>2004.0</td>\n",
              "      <td>4.0</td>\n",
              "      <td>11.703125</td>\n",
              "      <td>0.0</td>\n",
              "      <td>1021.5</td>\n",
              "      <td>100.0</td>\n",
              "      <td>3.599609</td>\n",
              "      <td>1</td>\n",
              "      <td>1</td>\n",
              "      <td>15.601562</td>\n",
              "      <td>0</td>\n",
              "      <td>6</td>\n",
              "      <td>1</td>\n",
              "      <td>0</td>\n",
              "      <td>0</td>\n",
              "      <td>0</td>\n",
              "      <td>0.008896</td>\n",
              "      <td>8.523438</td>\n",
              "      <td>77.5625</td>\n",
              "      <td>31</td>\n",
              "      <td>0.0</td>\n",
              "      <td>1.0</td>\n",
              "      <td>-0.81543</td>\n",
              "      <td>0.579102</td>\n",
              "      <td>-0.987793</td>\n",
              "      <td>0.154297</td>\n",
              "      <td>59.8125</td>\n",
              "      <td>16.453125</td>\n",
              "      <td>0</td>\n",
              "    </tr>\n",
              "    <tr>\n",
              "      <th>2</th>\n",
              "      <td>2</td>\n",
              "      <td>2</td>\n",
              "      <td>2</td>\n",
              "      <td>0</td>\n",
              "      <td>2017-01-01</td>\n",
              "      <td>0</td>\n",
              "      <td>0</td>\n",
              "      <td>5376</td>\n",
              "      <td>1991.0</td>\n",
              "      <td>4.0</td>\n",
              "      <td>11.703125</td>\n",
              "      <td>0.0</td>\n",
              "      <td>1021.5</td>\n",
              "      <td>100.0</td>\n",
              "      <td>3.599609</td>\n",
              "      <td>1</td>\n",
              "      <td>1</td>\n",
              "      <td>15.601562</td>\n",
              "      <td>0</td>\n",
              "      <td>6</td>\n",
              "      <td>1</td>\n",
              "      <td>0</td>\n",
              "      <td>0</td>\n",
              "      <td>0</td>\n",
              "      <td>0.008896</td>\n",
              "      <td>16.843750</td>\n",
              "      <td>77.5625</td>\n",
              "      <td>31</td>\n",
              "      <td>0.0</td>\n",
              "      <td>1.0</td>\n",
              "      <td>-0.81543</td>\n",
              "      <td>0.579102</td>\n",
              "      <td>-0.987793</td>\n",
              "      <td>0.154297</td>\n",
              "      <td>59.8125</td>\n",
              "      <td>16.453125</td>\n",
              "      <td>0</td>\n",
              "    </tr>\n",
              "    <tr>\n",
              "      <th>3</th>\n",
              "      <td>3</td>\n",
              "      <td>3</td>\n",
              "      <td>3</td>\n",
              "      <td>0</td>\n",
              "      <td>2017-01-01</td>\n",
              "      <td>0</td>\n",
              "      <td>0</td>\n",
              "      <td>23685</td>\n",
              "      <td>2002.0</td>\n",
              "      <td>4.0</td>\n",
              "      <td>11.703125</td>\n",
              "      <td>0.0</td>\n",
              "      <td>1021.5</td>\n",
              "      <td>100.0</td>\n",
              "      <td>3.599609</td>\n",
              "      <td>1</td>\n",
              "      <td>1</td>\n",
              "      <td>15.601562</td>\n",
              "      <td>0</td>\n",
              "      <td>6</td>\n",
              "      <td>1</td>\n",
              "      <td>0</td>\n",
              "      <td>0</td>\n",
              "      <td>0</td>\n",
              "      <td>0.008896</td>\n",
              "      <td>74.187500</td>\n",
              "      <td>77.5625</td>\n",
              "      <td>31</td>\n",
              "      <td>0.0</td>\n",
              "      <td>1.0</td>\n",
              "      <td>-0.81543</td>\n",
              "      <td>0.579102</td>\n",
              "      <td>-0.987793</td>\n",
              "      <td>0.154297</td>\n",
              "      <td>59.8125</td>\n",
              "      <td>16.453125</td>\n",
              "      <td>0</td>\n",
              "    </tr>\n",
              "    <tr>\n",
              "      <th>4</th>\n",
              "      <td>4</td>\n",
              "      <td>4</td>\n",
              "      <td>4</td>\n",
              "      <td>0</td>\n",
              "      <td>2017-01-01</td>\n",
              "      <td>0</td>\n",
              "      <td>0</td>\n",
              "      <td>116607</td>\n",
              "      <td>1975.0</td>\n",
              "      <td>4.0</td>\n",
              "      <td>11.703125</td>\n",
              "      <td>0.0</td>\n",
              "      <td>1021.5</td>\n",
              "      <td>100.0</td>\n",
              "      <td>3.599609</td>\n",
              "      <td>1</td>\n",
              "      <td>1</td>\n",
              "      <td>15.601562</td>\n",
              "      <td>0</td>\n",
              "      <td>6</td>\n",
              "      <td>1</td>\n",
              "      <td>0</td>\n",
              "      <td>0</td>\n",
              "      <td>0</td>\n",
              "      <td>0.008896</td>\n",
              "      <td>365.250000</td>\n",
              "      <td>77.5625</td>\n",
              "      <td>31</td>\n",
              "      <td>0.0</td>\n",
              "      <td>1.0</td>\n",
              "      <td>-0.81543</td>\n",
              "      <td>0.579102</td>\n",
              "      <td>-0.987793</td>\n",
              "      <td>0.154297</td>\n",
              "      <td>59.8125</td>\n",
              "      <td>16.453125</td>\n",
              "      <td>0</td>\n",
              "    </tr>\n",
              "  </tbody>\n",
              "</table>\n",
              "</div>"
            ],
            "text/plain": [
              "   index  row_id  building_id  ...  discomfort_index wind_chill  busy_hours\n",
              "0      0       0            0  ...           59.8125  16.453125           0\n",
              "1      1       1            1  ...           59.8125  16.453125           0\n",
              "2      2       2            2  ...           59.8125  16.453125           0\n",
              "3      3       3            3  ...           59.8125  16.453125           0\n",
              "4      4       4            4  ...           59.8125  16.453125           0\n",
              "\n",
              "[5 rows x 37 columns]"
            ]
          },
          "metadata": {
            "tags": []
          },
          "execution_count": 12
        }
      ]
    }
  ]
}