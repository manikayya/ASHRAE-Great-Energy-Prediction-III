{
  "nbformat": 4,
  "nbformat_minor": 0,
  "metadata": {
    "colab": {
      "name": "RandomForest.ipynb",
      "provenance": [],
      "collapsed_sections": []
    },
    "kernelspec": {
      "display_name": "Python 3",
      "name": "python3"
    },
    "language_info": {
      "name": "python"
    }
  },
  "cells": [
    {
      "cell_type": "code",
      "metadata": {
        "id": "l05kUleFojHM"
      },
      "source": [
        "#importing libraries\n",
        "import pandas as pd\n",
        "import numpy as np\n",
        "import matplotlib.pyplot as plt\n",
        "import warnings\n",
        "warnings.filterwarnings('ignore')\n",
        "import plotly.express as px\n",
        "import seaborn as sns\n",
        "from sklearn.ensemble import RandomForestRegressor\n",
        "from sklearn.model_selection import train_test_split\n",
        "from sklearn.model_selection import RandomizedSearchCV\n",
        "from sklearn.metrics import mean_squared_error"
      ],
      "execution_count": null,
      "outputs": []
    },
    {
      "cell_type": "code",
      "metadata": {
        "id": "Dq7fWJKEo-ZS"
      },
      "source": [
        "#loading data\n",
        "data = pd.read_feather('/content/drive/MyDrive/ashrae_Great_Energy_Prediction/train_feature_engineering.feather')\n",
        "data.drop('index',axis=1,inplace=True)"
      ],
      "execution_count": null,
      "outputs": []
    },
    {
      "cell_type": "markdown",
      "metadata": {
        "id": "ctPog4TbflBa"
      },
      "source": [
        "### Drop the features which are not important"
      ]
    },
    {
      "cell_type": "code",
      "metadata": {
        "id": "UJR3WXID3WVi"
      },
      "source": [
        "data.drop(['site_id','timestamp','wind_speed','wind_direction','is_summer_month','dew_temperature','relative_humidity','meter_reading','sea_level_pressure','cloud_coverage','precip_depth_1_hr','busy_hours','Sensible_Heat','discomfort_index','wind_chill','month'],axis=1,inplace=True)"
      ],
      "execution_count": null,
      "outputs": []
    },
    {
      "cell_type": "code",
      "metadata": {
        "id": "-UhnJRzC3hD-"
      },
      "source": [
        "x = data.drop('log_meter_reading',axis=1)\n",
        "y = data['log_meter_reading']"
      ],
      "execution_count": null,
      "outputs": []
    },
    {
      "cell_type": "markdown",
      "metadata": {
        "id": "1XOdPnGnf5vQ"
      },
      "source": [
        "### Splitting the data for training and validation"
      ]
    },
    {
      "cell_type": "code",
      "metadata": {
        "id": "Lt5jSfgF4VQj"
      },
      "source": [
        "x_train,x_val,y_train,y_val=train_test_split(x,y,test_size=0.25,random_state=0)"
      ],
      "execution_count": null,
      "outputs": []
    },
    {
      "cell_type": "markdown",
      "metadata": {
        "id": "w3Xz1LHhgGMS"
      },
      "source": [
        "### Hyperparameter Tuning"
      ]
    },
    {
      "cell_type": "code",
      "metadata": {
        "colab": {
          "background_save": true,
          "base_uri": "https://localhost:8080/"
        },
        "id": "IY8eiOhI1yzo",
        "outputId": "0f3c2295-7d90-45cb-96eb-c5c9606ebe23"
      },
      "source": [
        "rf=RandomForestRegressor(n_jobs=-1)\n",
        "params={'n_estimators':[60,80,100],\n",
        "        'max_depth':[5,7,9]}\n",
        "rf_clf=RandomizedSearchCV(rf,params,scoring='neg_root_mean_squared_error',n_jobs=8,cv=3,verbose=15,n_iter=5,random_state=0)\n",
        "rf_clf.fit(x_train,y_train)"
      ],
      "execution_count": null,
      "outputs": [
        {
          "output_type": "stream",
          "text": [
            "Fitting 3 folds for each of 5 candidates, totalling 15 fits\n"
          ],
          "name": "stdout"
        },
        {
          "output_type": "stream",
          "text": [
            "[Parallel(n_jobs=8)]: Using backend LokyBackend with 8 concurrent workers.\n",
            "[Parallel(n_jobs=8)]: Done   1 tasks      | elapsed: 126.2min\n",
            "[Parallel(n_jobs=8)]: Done   2 out of  15 | elapsed: 129.1min remaining: 839.1min\n",
            "[Parallel(n_jobs=8)]: Done   4 out of  15 | elapsed: 157.6min remaining: 433.4min\n",
            "[Parallel(n_jobs=8)]: Done   6 out of  15 | elapsed: 206.5min remaining: 309.8min\n",
            "[Parallel(n_jobs=8)]: Done   8 out of  15 | elapsed: 216.0min remaining: 189.0min\n",
            "[Parallel(n_jobs=8)]: Done  10 out of  15 | elapsed: 293.4min remaining: 146.7min\n",
            "[Parallel(n_jobs=8)]: Done  12 out of  15 | elapsed: 302.4min remaining: 75.6min\n",
            "[Parallel(n_jobs=8)]: Done  15 out of  15 | elapsed: 345.9min finished\n"
          ],
          "name": "stderr"
        }
      ]
    },
    {
      "cell_type": "markdown",
      "metadata": {
        "id": "t0yhpYxzgYgV"
      },
      "source": [
        "#### Best parameters"
      ]
    },
    {
      "cell_type": "code",
      "metadata": {
        "id": "rNJUlu_YKvId",
        "colab": {
          "base_uri": "https://localhost:8080/"
        },
        "outputId": "13e21cd0-6d6e-4ffc-bf69-d249fbb4372c"
      },
      "source": [
        "rf_clf.best_params_"
      ],
      "execution_count": null,
      "outputs": [
        {
          "output_type": "execute_result",
          "data": {
            "text/plain": [
              "{'max_depth': 9, 'n_estimators': 80}"
            ]
          },
          "metadata": {
            "tags": []
          },
          "execution_count": 11
        }
      ]
    },
    {
      "cell_type": "markdown",
      "metadata": {
        "id": "y08hjFnpgcaE"
      },
      "source": [
        "#### Best score"
      ]
    },
    {
      "cell_type": "code",
      "metadata": {
        "colab": {
          "base_uri": "https://localhost:8080/"
        },
        "id": "uivreGkubcS8",
        "outputId": "dddb5495-f0c2-4079-b463-58a5af28feef"
      },
      "source": [
        "rf_clf.best_score_"
      ],
      "execution_count": null,
      "outputs": [
        {
          "output_type": "execute_result",
          "data": {
            "text/plain": [
              "-1.4816741717505504"
            ]
          },
          "metadata": {
            "tags": []
          },
          "execution_count": 12
        }
      ]
    },
    {
      "cell_type": "markdown",
      "metadata": {
        "id": "dgHKRWXXgfkJ"
      },
      "source": [
        "### Fitting the model with the training data with best parameters"
      ]
    },
    {
      "cell_type": "code",
      "metadata": {
        "id": "Sh_vBVXe7ZGy"
      },
      "source": [
        "rf_model = RandomForestRegressor(max_depth=9,n_estimators=80,n_jobs=-1)"
      ],
      "execution_count": null,
      "outputs": []
    },
    {
      "cell_type": "code",
      "metadata": {
        "colab": {
          "base_uri": "https://localhost:8080/"
        },
        "id": "IMVCi1yWderR",
        "outputId": "216d5081-053d-432c-cd38-71a141e9f30b"
      },
      "source": [
        "rf_model.fit(x_train,y_train)"
      ],
      "execution_count": null,
      "outputs": [
        {
          "output_type": "execute_result",
          "data": {
            "text/plain": [
              "RandomForestRegressor(bootstrap=True, ccp_alpha=0.0, criterion='mse',\n",
              "                      max_depth=9, max_features='auto', max_leaf_nodes=None,\n",
              "                      max_samples=None, min_impurity_decrease=0.0,\n",
              "                      min_impurity_split=None, min_samples_leaf=1,\n",
              "                      min_samples_split=2, min_weight_fraction_leaf=0.0,\n",
              "                      n_estimators=80, n_jobs=-1, oob_score=False,\n",
              "                      random_state=None, verbose=0, warm_start=False)"
            ]
          },
          "metadata": {
            "tags": []
          },
          "execution_count": 9
        }
      ]
    },
    {
      "cell_type": "markdown",
      "metadata": {
        "id": "Ok1p1s27g9NQ"
      },
      "source": [
        "### Calculation of rmsle score on predicting validation data using best parameters "
      ]
    },
    {
      "cell_type": "code",
      "metadata": {
        "id": "QlRwWJdrmxKU"
      },
      "source": [
        "preds = rf_model.predict(x_val)"
      ],
      "execution_count": null,
      "outputs": []
    },
    {
      "cell_type": "code",
      "metadata": {
        "id": "fwmA0hd1-pSO",
        "colab": {
          "base_uri": "https://localhost:8080/"
        },
        "outputId": "5b14f249-4248-412f-9f03-be3ce3af104c"
      },
      "source": [
        "print('Validation RMSLE = ',np.sqrt(mean_squared_error(y_val , preds)))"
      ],
      "execution_count": null,
      "outputs": [
        {
          "output_type": "stream",
          "text": [
            "Validation RMSLE =  1.4823299791945617\n"
          ],
          "name": "stdout"
        }
      ]
    },
    {
      "cell_type": "markdown",
      "metadata": {
        "id": "6vpHc645hms9"
      },
      "source": [
        "### Fitting the model on whole training data using best parameters"
      ]
    },
    {
      "cell_type": "code",
      "metadata": {
        "colab": {
          "base_uri": "https://localhost:8080/"
        },
        "id": "wSbIWN5QoG-W",
        "outputId": "794706cc-fbbf-47e4-90ce-1dfa5fda80c0"
      },
      "source": [
        "rf_model_final = RandomForestRegressor(max_depth=9,n_estimators=80,n_jobs=-1)\n",
        "rf_model_final.fit(x,y)"
      ],
      "execution_count": null,
      "outputs": [
        {
          "output_type": "execute_result",
          "data": {
            "text/plain": [
              "RandomForestRegressor(bootstrap=True, ccp_alpha=0.0, criterion='mse',\n",
              "                      max_depth=9, max_features='auto', max_leaf_nodes=None,\n",
              "                      max_samples=None, min_impurity_decrease=0.0,\n",
              "                      min_impurity_split=None, min_samples_leaf=1,\n",
              "                      min_samples_split=2, min_weight_fraction_leaf=0.0,\n",
              "                      n_estimators=80, n_jobs=-1, oob_score=False,\n",
              "                      random_state=None, verbose=0, warm_start=False)"
            ]
          },
          "metadata": {
            "tags": []
          },
          "execution_count": 12
        }
      ]
    },
    {
      "cell_type": "code",
      "metadata": {
        "id": "WixRdpcDoQqt"
      },
      "source": [
        "#loading test data\n",
        "df = pd.read_feather('/content/drive/MyDrive/ashrae_Great_Energy_Prediction/test_data_final.feather')\n",
        "df.drop('index',axis=1,inplace=True)"
      ],
      "execution_count": null,
      "outputs": []
    },
    {
      "cell_type": "markdown",
      "metadata": {
        "id": "--Xj1yt1iJwL"
      },
      "source": [
        "### Drop the unimportant features"
      ]
    },
    {
      "cell_type": "code",
      "metadata": {
        "id": "H3bdxJh8XxcZ"
      },
      "source": [
        "df.drop(['row_id','site_id','timestamp','wind_speed','wind_direction','is_summer_month','dew_temperature','relative_humidity','sea_level_pressure','cloud_coverage','precip_depth_1_hr','busy_hours','Sensible_Heat','discomfort_index','wind_chill','month'],axis=1,inplace=True)"
      ],
      "execution_count": null,
      "outputs": []
    },
    {
      "cell_type": "markdown",
      "metadata": {
        "id": "Ahwbv88ml3WT"
      },
      "source": [
        "### Predicting on test data"
      ]
    },
    {
      "cell_type": "code",
      "metadata": {
        "id": "TEn8xdZnoZRj"
      },
      "source": [
        "y_test=rf_model_final.predict(df)"
      ],
      "execution_count": null,
      "outputs": []
    },
    {
      "cell_type": "code",
      "metadata": {
        "id": "kTeBzZkWpAhr"
      },
      "source": [
        "y_test=np.expm1(y_test)"
      ],
      "execution_count": null,
      "outputs": []
    },
    {
      "cell_type": "code",
      "metadata": {
        "id": "FMXWpo5ApEgp"
      },
      "source": [
        "test = np.round(y_test,4)"
      ],
      "execution_count": null,
      "outputs": []
    },
    {
      "cell_type": "code",
      "metadata": {
        "colab": {
          "base_uri": "https://localhost:8080/",
          "height": 205
        },
        "id": "d_3d_4L7CASN",
        "outputId": "cf3da351-a493-48cb-80f2-ca87c1c845e5"
      },
      "source": [
        "test_df = pd.DataFrame(data=test,columns={'meter_reading'})\n",
        "test_df['row_id'] = test_df.index\n",
        "test_df = test_df[['row_id','meter_reading']]\n",
        "test_df.head()"
      ],
      "execution_count": null,
      "outputs": [
        {
          "output_type": "execute_result",
          "data": {
            "text/html": [
              "<div>\n",
              "<style scoped>\n",
              "    .dataframe tbody tr th:only-of-type {\n",
              "        vertical-align: middle;\n",
              "    }\n",
              "\n",
              "    .dataframe tbody tr th {\n",
              "        vertical-align: top;\n",
              "    }\n",
              "\n",
              "    .dataframe thead th {\n",
              "        text-align: right;\n",
              "    }\n",
              "</style>\n",
              "<table border=\"1\" class=\"dataframe\">\n",
              "  <thead>\n",
              "    <tr style=\"text-align: right;\">\n",
              "      <th></th>\n",
              "      <th>row_id</th>\n",
              "      <th>meter_reading</th>\n",
              "    </tr>\n",
              "  </thead>\n",
              "  <tbody>\n",
              "    <tr>\n",
              "      <th>0</th>\n",
              "      <td>0</td>\n",
              "      <td>257.1415</td>\n",
              "    </tr>\n",
              "    <tr>\n",
              "      <th>1</th>\n",
              "      <td>1</td>\n",
              "      <td>127.9034</td>\n",
              "    </tr>\n",
              "    <tr>\n",
              "      <th>2</th>\n",
              "      <td>2</td>\n",
              "      <td>17.6007</td>\n",
              "    </tr>\n",
              "    <tr>\n",
              "      <th>3</th>\n",
              "      <td>3</td>\n",
              "      <td>360.6222</td>\n",
              "    </tr>\n",
              "    <tr>\n",
              "      <th>4</th>\n",
              "      <td>4</td>\n",
              "      <td>1104.9047</td>\n",
              "    </tr>\n",
              "  </tbody>\n",
              "</table>\n",
              "</div>"
            ],
            "text/plain": [
              "   row_id  meter_reading\n",
              "0       0       257.1415\n",
              "1       1       127.9034\n",
              "2       2        17.6007\n",
              "3       3       360.6222\n",
              "4       4      1104.9047"
            ]
          },
          "metadata": {
            "tags": []
          },
          "execution_count": 22
        }
      ]
    },
    {
      "cell_type": "markdown",
      "metadata": {
        "id": "NzpzaEhslNHK"
      },
      "source": [
        "### Meter_readings which are less than zero are set to zero because meter readings can not be than zero"
      ]
    },
    {
      "cell_type": "code",
      "metadata": {
        "id": "7M1SzY3XpVJj"
      },
      "source": [
        "for i in test_df[test_df['meter_reading']<0].index:\n",
        "    test_df['meter_reading'][i] = 0"
      ],
      "execution_count": null,
      "outputs": []
    },
    {
      "cell_type": "code",
      "metadata": {
        "id": "bWSauZmepZKr"
      },
      "source": [
        "test_df.to_csv('/content/drive/MyDrive/ashrae_Great_Energy_Prediction/rf.csv',index=False,header=True)"
      ],
      "execution_count": null,
      "outputs": []
    }
  ]
}