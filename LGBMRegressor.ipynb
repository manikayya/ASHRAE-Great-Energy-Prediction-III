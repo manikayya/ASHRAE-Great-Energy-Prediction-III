{
  "nbformat": 4,
  "nbformat_minor": 0,
  "metadata": {
    "colab": {
      "name": "LGBMRegressor.ipynb",
      "provenance": [],
      "collapsed_sections": [],
      "machine_shape": "hm"
    },
    "kernelspec": {
      "display_name": "Python 3",
      "name": "python3"
    },
    "language_info": {
      "name": "python"
    },
    "accelerator": "GPU"
  },
  "cells": [
    {
      "cell_type": "code",
      "metadata": {
        "id": "HC5KtpUEhAoQ"
      },
      "source": [
        "#Importing libraries\n",
        "import pandas as pd\n",
        "import numpy as np\n",
        "from fbprophet import Prophet\n",
        "import matplotlib.pyplot as plt\n",
        "import warnings\n",
        "warnings.filterwarnings('ignore')\n",
        "import plotly.express as px\n",
        "import seaborn as sns\n",
        "from lightgbm import LGBMRegressor\n",
        "from sklearn.model_selection import train_test_split\n",
        "from sklearn.model_selection import RandomizedSearchCV\n",
        "from sklearn.metrics import mean_squared_error"
      ],
      "execution_count": null,
      "outputs": []
    },
    {
      "cell_type": "code",
      "metadata": {
        "id": "8WR_h06shjdL"
      },
      "source": [
        "#loading training data\n",
        "data = pd.read_feather('/content/drive/MyDrive/ashrae_Great_Energy_Prediction/train_feature_engineering.feather')\n",
        "data.drop('index',axis=1,inplace=True)"
      ],
      "execution_count": null,
      "outputs": []
    },
    {
      "cell_type": "markdown",
      "metadata": {
        "id": "ctPog4TbflBa"
      },
      "source": [
        "### Drop the features which are not important"
      ]
    },
    {
      "cell_type": "code",
      "metadata": {
        "id": "X2NCZIqVnqQs"
      },
      "source": [
        "data.drop(['site_id','timestamp','wind_speed','wind_direction','is_summer_month','dew_temperature','relative_humidity','meter_reading','sea_level_pressure','cloud_coverage','precip_depth_1_hr','busy_hours','Sensible_Heat','discomfort_index','wind_chill','month'],axis=1,inplace=True)"
      ],
      "execution_count": null,
      "outputs": []
    },
    {
      "cell_type": "code",
      "metadata": {
        "id": "hxqF5MsntqOH"
      },
      "source": [
        "x = data.drop('log_meter_reading',axis=1)\n",
        "y = data['log_meter_reading']"
      ],
      "execution_count": null,
      "outputs": []
    },
    {
      "cell_type": "markdown",
      "metadata": {
        "id": "1XOdPnGnf5vQ"
      },
      "source": [
        "### Splitting the data for training and validation"
      ]
    },
    {
      "cell_type": "code",
      "metadata": {
        "id": "ovTbHUwhteoY"
      },
      "source": [
        "x_train,x_val,y_train,y_val=train_test_split(x,y,test_size=0.25,random_state=0)"
      ],
      "execution_count": null,
      "outputs": []
    },
    {
      "cell_type": "markdown",
      "metadata": {
        "id": "w3Xz1LHhgGMS"
      },
      "source": [
        "### Hyperparameter Tuning"
      ]
    },
    {
      "cell_type": "code",
      "metadata": {
        "colab": {
          "base_uri": "https://localhost:8080/"
        },
        "id": "Wh9D-f0vb_Zy",
        "outputId": "f8c03942-b671-4669-8211-d705580cf9ea"
      },
      "source": [
        "params={'max_depth':[3,5,7,9,11]}\n",
        "\n",
        "lgb_reg=LGBMRegressor()\n",
        "random_lgb=RandomizedSearchCV(lgb_reg,params,n_iter=8,scoring='neg_root_mean_squared_error',cv=3,verbose=1,random_state=42,n_jobs=-1)\n",
        "random_lgb.fit(x_train,y_train)"
      ],
      "execution_count": null,
      "outputs": [
        {
          "output_type": "stream",
          "text": [
            "Fitting 3 folds for each of 5 candidates, totalling 15 fits\n"
          ],
          "name": "stdout"
        },
        {
          "output_type": "stream",
          "text": [
            "[Parallel(n_jobs=-1)]: Using backend LokyBackend with 4 concurrent workers.\n",
            "[Parallel(n_jobs=-1)]: Done  15 out of  15 | elapsed: 12.0min finished\n"
          ],
          "name": "stderr"
        },
        {
          "output_type": "execute_result",
          "data": {
            "text/plain": [
              "RandomizedSearchCV(cv=3, error_score=nan,\n",
              "                   estimator=LGBMRegressor(boosting_type='gbdt',\n",
              "                                           class_weight=None,\n",
              "                                           colsample_bytree=1.0,\n",
              "                                           importance_type='split',\n",
              "                                           learning_rate=0.1, max_depth=-1,\n",
              "                                           min_child_samples=20,\n",
              "                                           min_child_weight=0.001,\n",
              "                                           min_split_gain=0.0, n_estimators=100,\n",
              "                                           n_jobs=-1, num_leaves=31,\n",
              "                                           objective=None, random_state=None,\n",
              "                                           reg_alpha=0.0, reg_lambda=0.0,\n",
              "                                           silent=True, subsample=1.0,\n",
              "                                           subsample_for_bin=200000,\n",
              "                                           subsample_freq=0),\n",
              "                   iid='deprecated', n_iter=8, n_jobs=-1,\n",
              "                   param_distributions={'max_depth': [3, 5, 7, 9, 11]},\n",
              "                   pre_dispatch='2*n_jobs', random_state=42, refit=True,\n",
              "                   return_train_score=False,\n",
              "                   scoring='neg_root_mean_squared_error', verbose=1)"
            ]
          },
          "metadata": {
            "tags": []
          },
          "execution_count": 11
        }
      ]
    },
    {
      "cell_type": "code",
      "metadata": {
        "colab": {
          "base_uri": "https://localhost:8080/"
        },
        "id": "nunm4dDU6BQM",
        "outputId": "a0786c49-b30f-4518-f402-4cece40f825f"
      },
      "source": [
        "random_lgb.best_params_"
      ],
      "execution_count": null,
      "outputs": [
        {
          "output_type": "execute_result",
          "data": {
            "text/plain": [
              "{'max_depth': 11}"
            ]
          },
          "metadata": {
            "tags": []
          },
          "execution_count": 12
        }
      ]
    },
    {
      "cell_type": "code",
      "metadata": {
        "colab": {
          "base_uri": "https://localhost:8080/"
        },
        "id": "Mw2D7dF-7lCs",
        "outputId": "da443239-a75b-4f46-f26e-fc993c5f2914"
      },
      "source": [
        "random_lgb.best_score_"
      ],
      "execution_count": null,
      "outputs": [
        {
          "output_type": "execute_result",
          "data": {
            "text/plain": [
              "-1.287161843913947"
            ]
          },
          "metadata": {
            "tags": []
          },
          "execution_count": 13
        }
      ]
    },
    {
      "cell_type": "code",
      "metadata": {
        "colab": {
          "base_uri": "https://localhost:8080/"
        },
        "id": "KZFEW9HrgF4x",
        "outputId": "486d563f-4849-4515-8186-b136f5fd1eb1"
      },
      "source": [
        "params={'learning_rate':[0.1,0.01,0.03,0.05]}\n",
        "\n",
        "lgb_reg=LGBMRegressor(max_depth=11)\n",
        "random_lgb=RandomizedSearchCV(lgb_reg,params,n_iter=8,scoring='neg_root_mean_squared_error',cv=3,verbose=1,random_state=42,n_jobs=-1)\n",
        "random_lgb.fit(x_train,y_train)"
      ],
      "execution_count": null,
      "outputs": [
        {
          "output_type": "stream",
          "text": [
            "Fitting 3 folds for each of 4 candidates, totalling 12 fits\n"
          ],
          "name": "stdout"
        },
        {
          "output_type": "stream",
          "text": [
            "[Parallel(n_jobs=-1)]: Using backend LokyBackend with 4 concurrent workers.\n",
            "[Parallel(n_jobs=-1)]: Done  12 out of  12 | elapsed: 11.9min finished\n"
          ],
          "name": "stderr"
        },
        {
          "output_type": "execute_result",
          "data": {
            "text/plain": [
              "RandomizedSearchCV(cv=3, error_score=nan,\n",
              "                   estimator=LGBMRegressor(boosting_type='gbdt',\n",
              "                                           class_weight=None,\n",
              "                                           colsample_bytree=1.0,\n",
              "                                           importance_type='split',\n",
              "                                           learning_rate=0.1, max_depth=11,\n",
              "                                           min_child_samples=20,\n",
              "                                           min_child_weight=0.001,\n",
              "                                           min_split_gain=0.0, n_estimators=100,\n",
              "                                           n_jobs=-1, num_leaves=31,\n",
              "                                           objective=None, random_state=None,\n",
              "                                           reg_alpha=0.0, reg_lambda=0.0,\n",
              "                                           silent=True, subsample=1.0,\n",
              "                                           subsample_for_bin=200000,\n",
              "                                           subsample_freq=0),\n",
              "                   iid='deprecated', n_iter=8, n_jobs=-1,\n",
              "                   param_distributions={'learning_rate': [0.1, 0.01, 0.03,\n",
              "                                                          0.05]},\n",
              "                   pre_dispatch='2*n_jobs', random_state=42, refit=True,\n",
              "                   return_train_score=False,\n",
              "                   scoring='neg_root_mean_squared_error', verbose=1)"
            ]
          },
          "metadata": {
            "tags": []
          },
          "execution_count": 16
        }
      ]
    },
    {
      "cell_type": "code",
      "metadata": {
        "colab": {
          "base_uri": "https://localhost:8080/"
        },
        "id": "ma8SzTqcmelf",
        "outputId": "4f4657a2-8c83-4cf3-c018-8009f4229b84"
      },
      "source": [
        "random_lgb.best_params_"
      ],
      "execution_count": null,
      "outputs": [
        {
          "output_type": "execute_result",
          "data": {
            "text/plain": [
              "{'learning_rate': 0.1}"
            ]
          },
          "metadata": {
            "tags": []
          },
          "execution_count": 17
        }
      ]
    },
    {
      "cell_type": "code",
      "metadata": {
        "colab": {
          "base_uri": "https://localhost:8080/"
        },
        "id": "50wdxFMBmj88",
        "outputId": "ae147dd3-3541-4360-ae49-c651e5292047"
      },
      "source": [
        "random_lgb.best_score_"
      ],
      "execution_count": null,
      "outputs": [
        {
          "output_type": "execute_result",
          "data": {
            "text/plain": [
              "-1.287161843913947"
            ]
          },
          "metadata": {
            "tags": []
          },
          "execution_count": 18
        }
      ]
    },
    {
      "cell_type": "code",
      "metadata": {
        "colab": {
          "base_uri": "https://localhost:8080/"
        },
        "id": "dfszmT2WnTEW",
        "outputId": "023cdddc-c8d5-41a1-820c-34f41df12620"
      },
      "source": [
        "params={'colsample_bytree':[0.7,0.8,0.9,1.0],}\n",
        "\n",
        "lgb_reg=LGBMRegressor(max_depth=11,learning_rate=0.1)\n",
        "random_lgb=RandomizedSearchCV(lgb_reg,params,n_iter=8,scoring='neg_root_mean_squared_error',cv=3,verbose=1,random_state=42,n_jobs=-1)\n",
        "random_lgb.fit(x_train,y_train)"
      ],
      "execution_count": null,
      "outputs": [
        {
          "output_type": "stream",
          "text": [
            "Fitting 3 folds for each of 4 candidates, totalling 12 fits\n"
          ],
          "name": "stdout"
        },
        {
          "output_type": "stream",
          "text": [
            "[Parallel(n_jobs=-1)]: Using backend LokyBackend with 4 concurrent workers.\n",
            "[Parallel(n_jobs=-1)]: Done  12 out of  12 | elapsed: 10.1min finished\n"
          ],
          "name": "stderr"
        },
        {
          "output_type": "execute_result",
          "data": {
            "text/plain": [
              "RandomizedSearchCV(cv=3, error_score=nan,\n",
              "                   estimator=LGBMRegressor(boosting_type='gbdt',\n",
              "                                           class_weight=None,\n",
              "                                           colsample_bytree=1.0,\n",
              "                                           importance_type='split',\n",
              "                                           learning_rate=0.1, max_depth=11,\n",
              "                                           min_child_samples=20,\n",
              "                                           min_child_weight=0.001,\n",
              "                                           min_split_gain=0.0, n_estimators=100,\n",
              "                                           n_jobs=-1, num_leaves=31,\n",
              "                                           objective=None, random_state=None,\n",
              "                                           reg_alpha=0.0, reg_lambda=0.0,\n",
              "                                           silent=True, subsample=1.0,\n",
              "                                           subsample_for_bin=200000,\n",
              "                                           subsample_freq=0),\n",
              "                   iid='deprecated', n_iter=8, n_jobs=-1,\n",
              "                   param_distributions={'colsample_bytree': [0.7, 0.8, 0.9,\n",
              "                                                             1.0]},\n",
              "                   pre_dispatch='2*n_jobs', random_state=42, refit=True,\n",
              "                   return_train_score=False,\n",
              "                   scoring='neg_root_mean_squared_error', verbose=1)"
            ]
          },
          "metadata": {
            "tags": []
          },
          "execution_count": 19
        }
      ]
    },
    {
      "cell_type": "code",
      "metadata": {
        "colab": {
          "base_uri": "https://localhost:8080/"
        },
        "id": "fsXAPhb9qb6B",
        "outputId": "14819fe7-fecb-4df7-8416-c9d754cb5a86"
      },
      "source": [
        "random_lgb.best_params_"
      ],
      "execution_count": null,
      "outputs": [
        {
          "output_type": "execute_result",
          "data": {
            "text/plain": [
              "{'colsample_bytree': 0.9}"
            ]
          },
          "metadata": {
            "tags": []
          },
          "execution_count": 20
        }
      ]
    },
    {
      "cell_type": "code",
      "metadata": {
        "colab": {
          "base_uri": "https://localhost:8080/"
        },
        "id": "piN4kNRUqjKD",
        "outputId": "483ef618-279e-402a-d210-91f6af839ec1"
      },
      "source": [
        "random_lgb.best_score_"
      ],
      "execution_count": null,
      "outputs": [
        {
          "output_type": "execute_result",
          "data": {
            "text/plain": [
              "-1.2831192482126825"
            ]
          },
          "metadata": {
            "tags": []
          },
          "execution_count": 21
        }
      ]
    },
    {
      "cell_type": "code",
      "metadata": {
        "colab": {
          "base_uri": "https://localhost:8080/"
        },
        "id": "fqUQkp87qthX",
        "outputId": "52f02c97-6b1a-44d5-ddd2-3f309a71c21c"
      },
      "source": [
        "params={'n_estimators':[300,500,800,1200]}\n",
        "\n",
        "lgb_reg=LGBMRegressor(max_depth=11,learning_rate=0.1,colsample_bytree=0.9)\n",
        "random_lgb=RandomizedSearchCV(lgb_reg,params,n_iter=8,scoring='neg_root_mean_squared_error',cv=3,verbose=1,random_state=42,n_jobs=-1)\n",
        "random_lgb.fit(x_train,y_train)"
      ],
      "execution_count": null,
      "outputs": [
        {
          "output_type": "stream",
          "text": [
            "Fitting 3 folds for each of 4 candidates, totalling 12 fits\n"
          ],
          "name": "stdout"
        },
        {
          "output_type": "stream",
          "text": [
            "[Parallel(n_jobs=-1)]: Using backend LokyBackend with 4 concurrent workers.\n",
            "[Parallel(n_jobs=-1)]: Done  12 out of  12 | elapsed: 51.1min finished\n"
          ],
          "name": "stderr"
        },
        {
          "output_type": "execute_result",
          "data": {
            "text/plain": [
              "RandomizedSearchCV(cv=3, error_score=nan,\n",
              "                   estimator=LGBMRegressor(boosting_type='gbdt',\n",
              "                                           class_weight=None,\n",
              "                                           colsample_bytree=0.9,\n",
              "                                           importance_type='split',\n",
              "                                           learning_rate=0.1, max_depth=11,\n",
              "                                           min_child_samples=20,\n",
              "                                           min_child_weight=0.001,\n",
              "                                           min_split_gain=0.0, n_estimators=100,\n",
              "                                           n_jobs=-1, num_leaves=31,\n",
              "                                           objective=None, random_state=None,\n",
              "                                           reg_alpha=0.0, reg_lambda=0.0,\n",
              "                                           silent=True, subsample=1.0,\n",
              "                                           subsample_for_bin=200000,\n",
              "                                           subsample_freq=0),\n",
              "                   iid='deprecated', n_iter=8, n_jobs=-1,\n",
              "                   param_distributions={'n_estimators': [300, 500, 800, 1200]},\n",
              "                   pre_dispatch='2*n_jobs', random_state=42, refit=True,\n",
              "                   return_train_score=False,\n",
              "                   scoring='neg_root_mean_squared_error', verbose=1)"
            ]
          },
          "metadata": {
            "tags": []
          },
          "execution_count": 22
        }
      ]
    },
    {
      "cell_type": "code",
      "metadata": {
        "colab": {
          "base_uri": "https://localhost:8080/"
        },
        "id": "LaHHqtI7rHuY",
        "outputId": "5f5831c5-d9ac-4180-a9a6-3a20d2ba9f3f"
      },
      "source": [
        "random_lgb.best_params_"
      ],
      "execution_count": null,
      "outputs": [
        {
          "output_type": "execute_result",
          "data": {
            "text/plain": [
              "{'n_estimators': 1200}"
            ]
          },
          "metadata": {
            "tags": []
          },
          "execution_count": 24
        }
      ]
    },
    {
      "cell_type": "code",
      "metadata": {
        "colab": {
          "base_uri": "https://localhost:8080/"
        },
        "id": "oCR8HVY6rLV9",
        "outputId": "71c12bb6-855e-4e58-d998-b819e959e8db"
      },
      "source": [
        "random_lgb.best_score_"
      ],
      "execution_count": null,
      "outputs": [
        {
          "output_type": "execute_result",
          "data": {
            "text/plain": [
              "-0.8271364523279928"
            ]
          },
          "metadata": {
            "tags": []
          },
          "execution_count": 25
        }
      ]
    },
    {
      "cell_type": "code",
      "metadata": {
        "colab": {
          "base_uri": "https://localhost:8080/"
        },
        "id": "d5DshDD24prz",
        "outputId": "cddcdfc8-36c1-4599-d7bd-9e7f429bf906"
      },
      "source": [
        "params={'min_child_samples':[50,100,150,200]}\n",
        "\n",
        "lgb_reg=LGBMRegressor(max_depth=11,learning_rate=0.1,colsample_bytree=0.9,n_estimators=1200)\n",
        "random_lgb=RandomizedSearchCV(lgb_reg,params,n_iter=8,scoring='neg_root_mean_squared_error',cv=3,verbose=1,random_state=42,n_jobs=-1)\n",
        "random_lgb.fit(x_train,y_train)"
      ],
      "execution_count": null,
      "outputs": [
        {
          "output_type": "stream",
          "text": [
            "Fitting 3 folds for each of 4 candidates, totalling 12 fits\n"
          ],
          "name": "stdout"
        },
        {
          "output_type": "stream",
          "text": [
            "[Parallel(n_jobs=-1)]: Using backend LokyBackend with 4 concurrent workers.\n"
          ],
          "name": "stderr"
        }
      ]
    },
    {
      "cell_type": "markdown",
      "metadata": {
        "id": "dgHKRWXXgfkJ"
      },
      "source": [
        "### Fitting the model with the training data with best parameters"
      ]
    },
    {
      "cell_type": "code",
      "metadata": {
        "id": "d9Ls4OKE7u7C"
      },
      "source": [
        " lgb_model=LGBMRegressor(n_estimators=1200,min_child_samples=100,max_depth=11,learning_rate=0.1,colsample_bytree=0.9,n_jobs=-1)"
      ],
      "execution_count": null,
      "outputs": []
    },
    {
      "cell_type": "code",
      "metadata": {
        "colab": {
          "base_uri": "https://localhost:8080/"
        },
        "id": "DZ1fPZH6JG-k",
        "outputId": "68cd7f16-d4e9-422f-c528-c1291d639e0c"
      },
      "source": [
        "lgb_model.fit(x_train,y_train)"
      ],
      "execution_count": null,
      "outputs": [
        {
          "output_type": "execute_result",
          "data": {
            "text/plain": [
              "LGBMRegressor(boosting_type='gbdt', class_weight=None, colsample_bytree=0.9,\n",
              "              importance_type='split', learning_rate=0.1, max_depth=11,\n",
              "              min_child_samples=100, min_child_weight=0.001, min_split_gain=0.0,\n",
              "              n_estimators=1200, n_jobs=-1, num_leaves=31, objective=None,\n",
              "              random_state=None, reg_alpha=0.0, reg_lambda=0.0, silent=True,\n",
              "              subsample=1.0, subsample_for_bin=200000, subsample_freq=0)"
            ]
          },
          "metadata": {
            "tags": []
          },
          "execution_count": 8
        }
      ]
    },
    {
      "cell_type": "markdown",
      "metadata": {
        "id": "Ok1p1s27g9NQ"
      },
      "source": [
        "### Calculation of rmsle score on predicting validation data using best parameters "
      ]
    },
    {
      "cell_type": "code",
      "metadata": {
        "id": "wnfrPY8jPWjV"
      },
      "source": [
        "preds = lgb_model.predict(x_val)"
      ],
      "execution_count": null,
      "outputs": []
    },
    {
      "cell_type": "code",
      "metadata": {
        "colab": {
          "base_uri": "https://localhost:8080/"
        },
        "id": "ufeSXkKhw2_0",
        "outputId": "7340ef94-6edb-4d75-fbbf-4e7739570662"
      },
      "source": [
        "print('Validation RMSLE = ',np.sqrt(mean_squared_error(y_val , preds)))"
      ],
      "execution_count": null,
      "outputs": [
        {
          "output_type": "stream",
          "text": [
            "Validation RMSLE =  0.8253499710180906\n"
          ],
          "name": "stdout"
        }
      ]
    },
    {
      "cell_type": "markdown",
      "metadata": {
        "id": "6vpHc645hms9"
      },
      "source": [
        "### Fitting the model on whole training data using best parameters"
      ]
    },
    {
      "cell_type": "code",
      "metadata": {
        "colab": {
          "base_uri": "https://localhost:8080/"
        },
        "id": "8NCI9sJQtAU6",
        "outputId": "2b5d0ce3-bab8-4ec3-c5f4-3ffe2ad89deb"
      },
      "source": [
        "lgb_final = LGBMRegressor(n_estimators=1200,min_child_samples=100,max_depth=11,learning_rate=0.1,colsample_bytree=0.9,n_jobs=-1)\n",
        "lgb_final.fit(x,y)"
      ],
      "execution_count": null,
      "outputs": [
        {
          "output_type": "execute_result",
          "data": {
            "text/plain": [
              "LGBMRegressor(boosting_type='gbdt', class_weight=None, colsample_bytree=0.9,\n",
              "              importance_type='split', learning_rate=0.1, max_depth=11,\n",
              "              min_child_samples=100, min_child_weight=0.001, min_split_gain=0.0,\n",
              "              n_estimators=1200, n_jobs=-1, num_leaves=31, objective=None,\n",
              "              random_state=None, reg_alpha=0.0, reg_lambda=0.0, silent=True,\n",
              "              subsample=1.0, subsample_for_bin=200000, subsample_freq=0)"
            ]
          },
          "metadata": {
            "tags": []
          },
          "execution_count": 9
        }
      ]
    },
    {
      "cell_type": "code",
      "metadata": {
        "id": "Wn_OBdJBXAA8"
      },
      "source": [
        "#Loading test data\n",
        "df = pd.read_feather('/content/drive/MyDrive/ashrae_Great_Energy_Prediction/test_data_final.feather')\n",
        "df.drop('index',axis=1,inplace=True)"
      ],
      "execution_count": null,
      "outputs": []
    },
    {
      "cell_type": "markdown",
      "metadata": {
        "id": "--Xj1yt1iJwL"
      },
      "source": [
        "### Drop the unimportant features"
      ]
    },
    {
      "cell_type": "code",
      "metadata": {
        "id": "H3bdxJh8XxcZ"
      },
      "source": [
        "df.drop(['row_id','site_id','timestamp','wind_speed','wind_direction','is_summer_month','dew_temperature','relative_humidity','sea_level_pressure','cloud_coverage','precip_depth_1_hr','busy_hours','Sensible_Heat','discomfort_index','wind_chill','month'],axis=1,inplace=True)"
      ],
      "execution_count": null,
      "outputs": []
    },
    {
      "cell_type": "code",
      "metadata": {
        "id": "uyA1jKCPA34E"
      },
      "source": [
        "df.drop(['hour_x','hour_y','day_x','day_y','month_x','month_y','days_in_month'],axis=1,inplace=True)"
      ],
      "execution_count": null,
      "outputs": []
    },
    {
      "cell_type": "markdown",
      "metadata": {
        "id": "Ahwbv88ml3WT"
      },
      "source": [
        "### Predicting on test data"
      ]
    },
    {
      "cell_type": "code",
      "metadata": {
        "id": "j5DrBwDKYnpl"
      },
      "source": [
        "y_test=lgb_final.predict(df)"
      ],
      "execution_count": null,
      "outputs": []
    },
    {
      "cell_type": "code",
      "metadata": {
        "id": "JoKlTE2Dxa91"
      },
      "source": [
        "y_test=np.expm1(y_test)"
      ],
      "execution_count": null,
      "outputs": []
    },
    {
      "cell_type": "code",
      "metadata": {
        "id": "GESB28spx1jw"
      },
      "source": [
        "test = np.round(y_test,4)"
      ],
      "execution_count": null,
      "outputs": []
    },
    {
      "cell_type": "code",
      "metadata": {
        "colab": {
          "base_uri": "https://localhost:8080/",
          "height": 205
        },
        "id": "Auu9xmc5yZjG",
        "outputId": "08db4300-fda7-4143-bced-85e3db6381a6"
      },
      "source": [
        "test_df = pd.DataFrame(data=test,columns={'meter_reading'})\n",
        "test_df['row_id'] = test_df.index\n",
        "test_df = test_df[['row_id','meter_reading']]\n",
        "test_df.head()"
      ],
      "execution_count": null,
      "outputs": [
        {
          "output_type": "execute_result",
          "data": {
            "text/html": [
              "<div>\n",
              "<style scoped>\n",
              "    .dataframe tbody tr th:only-of-type {\n",
              "        vertical-align: middle;\n",
              "    }\n",
              "\n",
              "    .dataframe tbody tr th {\n",
              "        vertical-align: top;\n",
              "    }\n",
              "\n",
              "    .dataframe thead th {\n",
              "        text-align: right;\n",
              "    }\n",
              "</style>\n",
              "<table border=\"1\" class=\"dataframe\">\n",
              "  <thead>\n",
              "    <tr style=\"text-align: right;\">\n",
              "      <th></th>\n",
              "      <th>row_id</th>\n",
              "      <th>meter_reading</th>\n",
              "    </tr>\n",
              "  </thead>\n",
              "  <tbody>\n",
              "    <tr>\n",
              "      <th>0</th>\n",
              "      <td>0</td>\n",
              "      <td>143.8624</td>\n",
              "    </tr>\n",
              "    <tr>\n",
              "      <th>1</th>\n",
              "      <td>1</td>\n",
              "      <td>79.7317</td>\n",
              "    </tr>\n",
              "    <tr>\n",
              "      <th>2</th>\n",
              "      <td>2</td>\n",
              "      <td>7.4596</td>\n",
              "    </tr>\n",
              "    <tr>\n",
              "      <th>3</th>\n",
              "      <td>3</td>\n",
              "      <td>279.7759</td>\n",
              "    </tr>\n",
              "    <tr>\n",
              "      <th>4</th>\n",
              "      <td>4</td>\n",
              "      <td>1269.0989</td>\n",
              "    </tr>\n",
              "  </tbody>\n",
              "</table>\n",
              "</div>"
            ],
            "text/plain": [
              "   row_id  meter_reading\n",
              "0       0       143.8624\n",
              "1       1        79.7317\n",
              "2       2         7.4596\n",
              "3       3       279.7759\n",
              "4       4      1269.0989"
            ]
          },
          "metadata": {
            "tags": []
          },
          "execution_count": 21
        }
      ]
    },
    {
      "cell_type": "markdown",
      "metadata": {
        "id": "NzpzaEhslNHK"
      },
      "source": [
        "### Meter_readings which are less than zero are set to zero because meter readings can not be than zero"
      ]
    },
    {
      "cell_type": "code",
      "metadata": {
        "id": "7JVc0ipQz5sj"
      },
      "source": [
        "for i in test_df[test_df['meter_reading']<0].index: \n",
        "    \n",
        "    test_df['meter_reading'][i] = 0"
      ],
      "execution_count": null,
      "outputs": []
    },
    {
      "cell_type": "code",
      "metadata": {
        "id": "pW7B0uBn27ZU"
      },
      "source": [
        "test_df.to_csv('/content/drive/MyDrive/ashrae_Great_Energy_Prediction/lgbm.csv',index=False,header=True)"
      ],
      "execution_count": null,
      "outputs": []
    }
  ]
}