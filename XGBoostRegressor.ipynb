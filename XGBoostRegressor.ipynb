{
  "nbformat": 4,
  "nbformat_minor": 0,
  "metadata": {
    "accelerator": "GPU",
    "colab": {
      "name": "XGBoostRegressor.ipynb",
      "provenance": [],
      "collapsed_sections": [],
      "machine_shape": "hm"
    },
    "kernelspec": {
      "display_name": "Python 3",
      "name": "python3"
    },
    "language_info": {
      "name": "python"
    }
  },
  "cells": [
    {
      "cell_type": "code",
      "metadata": {
        "id": "EwzTnJ3pxHdV"
      },
      "source": [
        "#importing libraries\n",
        "import pandas as pd\n",
        "import numpy as np\n",
        "from sklearn.model_selection import train_test_split\n",
        "from xgboost import XGBRegressor\n",
        "from sklearn.model_selection import RandomizedSearchCV\n",
        "from sklearn.metrics import mean_squared_error\n",
        "import warnings\n",
        "warnings.filterwarnings('ignore')"
      ],
      "execution_count": null,
      "outputs": []
    },
    {
      "cell_type": "code",
      "metadata": {
        "id": "yqP1MW5Yxe8-"
      },
      "source": [
        "#loading training data \n",
        "data = pd.read_feather('/content/drive/MyDrive/ashrae_Great_Energy_Prediction/train_feature_engineering.feather')\n",
        "data.drop('index',axis=1,inplace=True)"
      ],
      "execution_count": null,
      "outputs": []
    },
    {
      "cell_type": "markdown",
      "metadata": {
        "id": "ctPog4TbflBa"
      },
      "source": [
        "### Drop the features which are not important"
      ]
    },
    {
      "cell_type": "code",
      "metadata": {
        "id": "UJR3WXID3WVi"
      },
      "source": [
        "data.drop(['site_id','timestamp','wind_speed','wind_direction','is_summer_month','dew_temperature','relative_humidity','meter_reading','sea_level_pressure','cloud_coverage','precip_depth_1_hr','busy_hours','Sensible_Heat','discomfort_index','wind_chill','month'],axis=1,inplace=True)"
      ],
      "execution_count": null,
      "outputs": []
    },
    {
      "cell_type": "code",
      "metadata": {
        "id": "-UhnJRzC3hD-"
      },
      "source": [
        "x = data.drop('log_meter_reading',axis=1)\n",
        "y = data['log_meter_reading']"
      ],
      "execution_count": null,
      "outputs": []
    },
    {
      "cell_type": "markdown",
      "metadata": {
        "id": "1XOdPnGnf5vQ"
      },
      "source": [
        "### Splitting the data for training and validation"
      ]
    },
    {
      "cell_type": "code",
      "metadata": {
        "id": "Lt5jSfgF4VQj"
      },
      "source": [
        "x_train,x_val,y_train,y_val=train_test_split(x,y,test_size=0.25,random_state=0)"
      ],
      "execution_count": null,
      "outputs": []
    },
    {
      "cell_type": "markdown",
      "metadata": {
        "id": "w3Xz1LHhgGMS"
      },
      "source": [
        "### Hyperparameter Tuning"
      ]
    },
    {
      "cell_type": "code",
      "metadata": {
        "colab": {
          "base_uri": "https://localhost:8080/"
        },
        "id": "1-bHHXtteH5G",
        "outputId": "79362bda-ccc2-4891-c2e9-d9282217f8db"
      },
      "source": [
        "xgb_clf = XGBRegressor(tree_method='gpu_hist')\n",
        "params = {'n_estimators':[1000,1500,2000],\n",
        "        'learning_rate':[0.01,0.03,0.05,0.1],\n",
        "        'max_depth':[3,5,7,9],\n",
        "        'colsample_bytree':[0.5,0.8,0.9,1]}\n",
        "xgb_model = RandomizedSearchCV(xgb_clf,params,scoring='neg_root_mean_squared_error',n_jobs=-1,cv=3,verbose=10,random_state=0,n_iter=10)\n",
        "xgb_model.fit(x_train,y_train)"
      ],
      "execution_count": null,
      "outputs": [
        {
          "name": "stdout",
          "output_type": "stream",
          "text": [
            "Fitting 3 folds for each of 10 candidates, totalling 30 fits\n"
          ]
        },
        {
          "name": "stderr",
          "output_type": "stream",
          "text": [
            "[Parallel(n_jobs=-1)]: Using backend LokyBackend with 4 concurrent workers.\n",
            "[Parallel(n_jobs=-1)]: Done   5 tasks      | elapsed:  5.7min\n",
            "[Parallel(n_jobs=-1)]: Done  10 tasks      | elapsed: 11.0min\n",
            "[Parallel(n_jobs=-1)]: Done  17 tasks      | elapsed: 18.9min\n",
            "[Parallel(n_jobs=-1)]: Done  27 out of  30 | elapsed: 32.3min remaining:  3.6min\n",
            "[Parallel(n_jobs=-1)]: Done  30 out of  30 | elapsed: 34.5min finished\n"
          ]
        },
        {
          "name": "stdout",
          "output_type": "stream",
          "text": [
            "[05:59:43] WARNING: /workspace/src/objective/regression_obj.cu:152: reg:linear is now deprecated in favor of reg:squarederror.\n"
          ]
        },
        {
          "data": {
            "text/plain": [
              "RandomizedSearchCV(cv=3, error_score=nan,\n",
              "                   estimator=XGBRegressor(base_score=0.5, booster='gbtree',\n",
              "                                          colsample_bylevel=1,\n",
              "                                          colsample_bynode=1,\n",
              "                                          colsample_bytree=1, gamma=0,\n",
              "                                          importance_type='gain',\n",
              "                                          learning_rate=0.1, max_delta_step=0,\n",
              "                                          max_depth=3, min_child_weight=1,\n",
              "                                          missing=None, n_estimators=100,\n",
              "                                          n_jobs=1, nthread=None,\n",
              "                                          objective='reg:linear',\n",
              "                                          random_state=0, reg_alpha=...\n",
              "                                          seed=None, silent=None, subsample=1,\n",
              "                                          tree_method='gpu_hist', verbosity=1),\n",
              "                   iid='deprecated', n_iter=10, n_jobs=-1,\n",
              "                   param_distributions={'colsample_bytree': [0.5, 0.8, 0.9, 1],\n",
              "                                        'learning_rate': [0.01, 0.03, 0.05,\n",
              "                                                          0.1],\n",
              "                                        'max_depth': [3, 5, 7, 9],\n",
              "                                        'n_estimators': [1000, 1500, 2000]},\n",
              "                   pre_dispatch='2*n_jobs', random_state=0, refit=True,\n",
              "                   return_train_score=False,\n",
              "                   scoring='neg_root_mean_squared_error', verbose=10)"
            ]
          },
          "execution_count": 8,
          "metadata": {
            "tags": []
          },
          "output_type": "execute_result"
        }
      ]
    },
    {
      "cell_type": "markdown",
      "metadata": {
        "id": "t0yhpYxzgYgV"
      },
      "source": [
        "#### Best parameters"
      ]
    },
    {
      "cell_type": "code",
      "metadata": {
        "colab": {
          "base_uri": "https://localhost:8080/"
        },
        "id": "sJBicdPDjXQQ",
        "outputId": "a123cd6a-0d2e-4bf5-fa2c-6881eda89327"
      },
      "source": [
        "xgb_model.best_params_"
      ],
      "execution_count": null,
      "outputs": [
        {
          "data": {
            "text/plain": [
              "{'colsample_bytree': 0.8,\n",
              " 'learning_rate': 0.03,\n",
              " 'max_depth': 9,\n",
              " 'n_estimators': 2000}"
            ]
          },
          "execution_count": 11,
          "metadata": {
            "tags": []
          },
          "output_type": "execute_result"
        }
      ]
    },
    {
      "cell_type": "markdown",
      "metadata": {
        "id": "y08hjFnpgcaE"
      },
      "source": [
        "#### Best score"
      ]
    },
    {
      "cell_type": "code",
      "metadata": {
        "colab": {
          "base_uri": "https://localhost:8080/"
        },
        "id": "xBReDScFjmcj",
        "outputId": "a221c5be-793f-4f21-e60d-04cc441e4422"
      },
      "source": [
        "xgb_model.best_score_"
      ],
      "execution_count": null,
      "outputs": [
        {
          "data": {
            "text/plain": [
              "-0.670367439587911"
            ]
          },
          "execution_count": 12,
          "metadata": {
            "tags": []
          },
          "output_type": "execute_result"
        }
      ]
    },
    {
      "cell_type": "markdown",
      "metadata": {
        "id": "dgHKRWXXgfkJ"
      },
      "source": [
        "### Fitting the model with the training data with best parameters"
      ]
    },
    {
      "cell_type": "code",
      "metadata": {
        "id": "OukrO6aLqZ9F"
      },
      "source": [
        "xgb = XGBRegressor(n_estimators=2000,max_depth=9,learning_rate=0.03,colsample_bytree=0.8,tree_method='gpu_hist')"
      ],
      "execution_count": null,
      "outputs": []
    },
    {
      "cell_type": "code",
      "metadata": {
        "colab": {
          "base_uri": "https://localhost:8080/"
        },
        "id": "4mQ5VrL-qhrG",
        "outputId": "339c45c9-09ad-4f84-e8d7-fa61aacbe080"
      },
      "source": [
        "xgb.fit(x_train,y_train)"
      ],
      "execution_count": null,
      "outputs": [
        {
          "name": "stdout",
          "output_type": "stream",
          "text": [
            "[04:56:21] WARNING: /workspace/src/objective/regression_obj.cu:152: reg:linear is now deprecated in favor of reg:squarederror.\n"
          ]
        },
        {
          "data": {
            "text/plain": [
              "XGBRegressor(base_score=0.5, booster='gbtree', colsample_bylevel=1,\n",
              "             colsample_bynode=1, colsample_bytree=0.8, gamma=0,\n",
              "             importance_type='gain', learning_rate=0.03, max_delta_step=0,\n",
              "             max_depth=9, min_child_weight=1, missing=None, n_estimators=2000,\n",
              "             n_jobs=1, nthread=None, objective='reg:linear', random_state=0,\n",
              "             reg_alpha=0, reg_lambda=1, scale_pos_weight=1, seed=None,\n",
              "             silent=None, subsample=1, tree_method='gpu_hist', verbosity=1)"
            ]
          },
          "execution_count": 9,
          "metadata": {
            "tags": []
          },
          "output_type": "execute_result"
        }
      ]
    },
    {
      "cell_type": "markdown",
      "metadata": {
        "id": "Ok1p1s27g9NQ"
      },
      "source": [
        "### Calculation of rmsle score on predicting validation data using best parameters "
      ]
    },
    {
      "cell_type": "code",
      "metadata": {
        "id": "HTSDZT3AqvZ_"
      },
      "source": [
        "preds = xgb.predict(x_val)"
      ],
      "execution_count": null,
      "outputs": []
    },
    {
      "cell_type": "code",
      "metadata": {
        "colab": {
          "base_uri": "https://localhost:8080/"
        },
        "id": "mV0yJwS-rfI7",
        "outputId": "332b652c-7d03-4891-dda6-ed05b09f61a9"
      },
      "source": [
        "print('Validation RMSLE = ',np.sqrt(mean_squared_error(y_val , preds)))"
      ],
      "execution_count": null,
      "outputs": [
        {
          "name": "stdout",
          "output_type": "stream",
          "text": [
            "Validation RMSLE =  0.67230785\n"
          ]
        }
      ]
    },
    {
      "cell_type": "markdown",
      "metadata": {
        "id": "6vpHc645hms9"
      },
      "source": [
        "### Fitting the model on whole training data using best parameters"
      ]
    },
    {
      "cell_type": "code",
      "metadata": {
        "id": "gRSmxCmY8KMM"
      },
      "source": [
        "xgb_final = XGBRegressor(n_estimators=2000,max_depth=9,learning_rate=0.03,colsample_bytree=0.8,tree_method='gpu_hist')"
      ],
      "execution_count": null,
      "outputs": []
    },
    {
      "cell_type": "code",
      "metadata": {
        "colab": {
          "base_uri": "https://localhost:8080/"
        },
        "id": "VhgbO4Nx5vGb",
        "outputId": "ae6b26d0-40c9-4f2d-c036-de2acd43118b"
      },
      "source": [
        "xgb_final.fit(x,y)"
      ],
      "execution_count": null,
      "outputs": [
        {
          "name": "stdout",
          "output_type": "stream",
          "text": [
            "[13:22:44] WARNING: /workspace/src/objective/regression_obj.cu:152: reg:linear is now deprecated in favor of reg:squarederror.\n"
          ]
        },
        {
          "data": {
            "text/plain": [
              "XGBRegressor(base_score=0.5, booster='gbtree', colsample_bylevel=1,\n",
              "             colsample_bynode=1, colsample_bytree=0.8, gamma=0,\n",
              "             importance_type='gain', learning_rate=0.03, max_delta_step=0,\n",
              "             max_depth=9, min_child_weight=1, missing=None, n_estimators=2000,\n",
              "             n_jobs=1, nthread=None, objective='reg:linear', random_state=0,\n",
              "             reg_alpha=0, reg_lambda=1, scale_pos_weight=1, seed=None,\n",
              "             silent=None, subsample=1, tree_method='gpu_hist', verbosity=1)"
            ]
          },
          "execution_count": 6,
          "metadata": {
            "tags": []
          },
          "output_type": "execute_result"
        }
      ]
    },
    {
      "cell_type": "code",
      "metadata": {
        "id": "jooVJTV7FSr_"
      },
      "source": [
        "xgb_final.save_model('/content/drive/MyDrive/ashrae_Great_Energy_Prediction/xgb_model.json')\n"
      ],
      "execution_count": null,
      "outputs": []
    },
    {
      "cell_type": "code",
      "metadata": {
        "id": "wtlofVw1G9Lc"
      },
      "source": [
        "xgb_final.save_model('/content/drive/MyDrive/ashrae_Great_Energy_Prediction/xgb.sav')"
      ],
      "execution_count": null,
      "outputs": []
    },
    {
      "cell_type": "code",
      "metadata": {
        "colab": {
          "base_uri": "https://localhost:8080/"
        },
        "id": "OICCdZXq2s6C",
        "outputId": "0c249236-ddad-424d-bb85-7e83b92e4585"
      },
      "source": [
        "import joblib\n",
        "#Save the models to a pickle file for making predictions on test data in future\n",
        "filename='/content/drive/MyDrive/ashrae_Great_Energy_Prediction/xgb_model.sav'\n",
        "joblib.dump(xgb_final,filename)"
      ],
      "execution_count": null,
      "outputs": [
        {
          "data": {
            "text/plain": [
              "['/content/drive/MyDrive/ashrae_Great_Energy_Prediction/xgb_model.sav']"
            ]
          },
          "execution_count": 11,
          "metadata": {
            "tags": []
          },
          "output_type": "execute_result"
        }
      ]
    },
    {
      "cell_type": "code",
      "metadata": {
        "colab": {
          "background_save": true
        },
        "id": "WixRdpcDoQqt"
      },
      "source": [
        "#loading test data\n",
        "df = pd.read_feather('/content/drive/MyDrive/ashrae_Great_Energy_Prediction/test_data_final.feather')\n",
        "df.drop('index',axis=1,inplace=True)"
      ],
      "execution_count": null,
      "outputs": []
    },
    {
      "cell_type": "markdown",
      "metadata": {
        "id": "--Xj1yt1iJwL"
      },
      "source": [
        "### Drop the unimportant features"
      ]
    },
    {
      "cell_type": "code",
      "metadata": {
        "id": "H3bdxJh8XxcZ"
      },
      "source": [
        "df.drop(['row_id','site_id','timestamp','wind_speed','wind_direction','is_summer_month','dew_temperature','relative_humidity','sea_level_pressure','cloud_coverage','precip_depth_1_hr','busy_hours','Sensible_Heat','discomfort_index','wind_chill','month'],axis=1,inplace=True)"
      ],
      "execution_count": null,
      "outputs": []
    },
    {
      "cell_type": "markdown",
      "metadata": {
        "id": "Ahwbv88ml3WT"
      },
      "source": [
        "### Predicting on test data"
      ]
    },
    {
      "cell_type": "code",
      "metadata": {
        "colab": {
          "base_uri": "https://localhost:8080/"
        },
        "id": "C4xGQAXZSOK4",
        "outputId": "af7d0a9e-3a16-4829-ea21-75f236483989"
      },
      "source": [
        "x.loc[0]"
      ],
      "execution_count": null,
      "outputs": [
        {
          "data": {
            "text/plain": [
              "building_id          105.000000\n",
              "meter                  0.000000\n",
              "primary_use            0.000000\n",
              "square_feet        50623.000000\n",
              "year_built          1960.000000\n",
              "day                    1.000000\n",
              "air_temperature        3.800781\n",
              "hour                   0.000000\n",
              "weekday                4.000000\n",
              "is_winter_month        1.000000\n",
              "is_pub_holiday         1.000000\n",
              "is_weekday             0.000000\n",
              "horizsolar             0.000000\n",
              "Name: 0, dtype: float64"
            ]
          },
          "execution_count": 11,
          "metadata": {
            "tags": []
          },
          "output_type": "execute_result"
        }
      ]
    },
    {
      "cell_type": "code",
      "metadata": {
        "id": "zp1I4MkqZhxw"
      },
      "source": [
        "m=y.head(1).values"
      ],
      "execution_count": null,
      "outputs": []
    },
    {
      "cell_type": "code",
      "metadata": {
        "colab": {
          "base_uri": "https://localhost:8080/"
        },
        "id": "KiR7lMNCaInA",
        "outputId": "ed0ba58b-add0-43e2-ede0-7e993e62f05d"
      },
      "source": [
        "m"
      ],
      "execution_count": null,
      "outputs": [
        {
          "data": {
            "text/plain": [
              "array([3.191], dtype=float16)"
            ]
          },
          "execution_count": 40,
          "metadata": {
            "tags": []
          },
          "output_type": "execute_result"
        }
      ]
    },
    {
      "cell_type": "code",
      "metadata": {
        "colab": {
          "base_uri": "https://localhost:8080/"
        },
        "id": "T0AGFnwWaATT",
        "outputId": "d81310fb-3c66-4178-9e02-83175abee5fa"
      },
      "source": [
        "np.expm1(m)"
      ],
      "execution_count": null,
      "outputs": [
        {
          "data": {
            "text/plain": [
              "array([23.33], dtype=float16)"
            ]
          },
          "execution_count": 41,
          "metadata": {
            "tags": []
          },
          "output_type": "execute_result"
        }
      ]
    },
    {
      "cell_type": "code",
      "metadata": {
        "id": "6Cv1GrOMUYh-"
      },
      "source": [
        "p=x.tail(1)"
      ],
      "execution_count": null,
      "outputs": []
    },
    {
      "cell_type": "code",
      "metadata": {
        "id": "w1P6mG1tYjbA"
      },
      "source": [
        "p = pd.DataFrame(p).reset_index()"
      ],
      "execution_count": null,
      "outputs": []
    },
    {
      "cell_type": "code",
      "metadata": {
        "id": "ZoYDwOtaSEzN"
      },
      "source": [
        "p.to_csv('querypoint.csv',index=False)"
      ],
      "execution_count": null,
      "outputs": []
    },
    {
      "cell_type": "code",
      "metadata": {
        "colab": {
          "base_uri": "https://localhost:8080/",
          "height": 101
        },
        "id": "3vucSk2IUEb7",
        "outputId": "b66737eb-0cc4-4027-8bd7-2836fea99a4b"
      },
      "source": [
        "c = pd.read_csv('/content/querypoint.csv')\n",
        "c"
      ],
      "execution_count": null,
      "outputs": [
        {
          "data": {
            "text/html": [
              "<div>\n",
              "<style scoped>\n",
              "    .dataframe tbody tr th:only-of-type {\n",
              "        vertical-align: middle;\n",
              "    }\n",
              "\n",
              "    .dataframe tbody tr th {\n",
              "        vertical-align: top;\n",
              "    }\n",
              "\n",
              "    .dataframe thead th {\n",
              "        text-align: right;\n",
              "    }\n",
              "</style>\n",
              "<table border=\"1\" class=\"dataframe\">\n",
              "  <thead>\n",
              "    <tr style=\"text-align: right;\">\n",
              "      <th></th>\n",
              "      <th>building_id</th>\n",
              "      <th>meter</th>\n",
              "      <th>primary_use</th>\n",
              "      <th>square_feet</th>\n",
              "      <th>year_built</th>\n",
              "      <th>day</th>\n",
              "      <th>air_temperature</th>\n",
              "      <th>hour</th>\n",
              "      <th>weekday</th>\n",
              "      <th>is_winter_month</th>\n",
              "      <th>is_pub_holiday</th>\n",
              "      <th>is_weekday</th>\n",
              "      <th>horizsolar</th>\n",
              "    </tr>\n",
              "  </thead>\n",
              "  <tbody>\n",
              "    <tr>\n",
              "      <th>0</th>\n",
              "      <td>1448</td>\n",
              "      <td>0</td>\n",
              "      <td>6</td>\n",
              "      <td>92271</td>\n",
              "      <td>2001.0</td>\n",
              "      <td>366</td>\n",
              "      <td>1.7</td>\n",
              "      <td>23</td>\n",
              "      <td>5</td>\n",
              "      <td>1</td>\n",
              "      <td>0</td>\n",
              "      <td>0</td>\n",
              "      <td>0.0</td>\n",
              "    </tr>\n",
              "  </tbody>\n",
              "</table>\n",
              "</div>"
            ],
            "text/plain": [
              "   building_id  meter  primary_use  ...  is_pub_holiday  is_weekday  horizsolar\n",
              "0         1448      0            6  ...               0           0         0.0\n",
              "\n",
              "[1 rows x 13 columns]"
            ]
          },
          "execution_count": 34,
          "metadata": {
            "tags": []
          },
          "output_type": "execute_result"
        }
      ]
    },
    {
      "cell_type": "code",
      "metadata": {
        "id": "TEn8xdZnoZRj"
      },
      "source": [
        "y_test=xgb_final.predict(df)"
      ],
      "execution_count": null,
      "outputs": []
    },
    {
      "cell_type": "code",
      "metadata": {
        "id": "kTeBzZkWpAhr"
      },
      "source": [
        "y_test=np.expm1(y_test)"
      ],
      "execution_count": null,
      "outputs": []
    },
    {
      "cell_type": "code",
      "metadata": {
        "id": "FMXWpo5ApEgp"
      },
      "source": [
        "test = np.round(y_test,4)"
      ],
      "execution_count": null,
      "outputs": []
    },
    {
      "cell_type": "code",
      "metadata": {
        "colab": {
          "base_uri": "https://localhost:8080/",
          "height": 205
        },
        "id": "5yJ1WfPBpKIe",
        "outputId": "5644e2c4-fbae-42b9-b6d5-5932be5b276e"
      },
      "source": [
        "test_df = pd.DataFrame(data=test,columns={'meter_reading'})\n",
        "test_df['row_id'] = test_df.index\n",
        "test_df = test_df[['row_id','meter_reading']]\n",
        "test_df.head()"
      ],
      "execution_count": null,
      "outputs": [
        {
          "data": {
            "text/html": [
              "<div>\n",
              "<style scoped>\n",
              "    .dataframe tbody tr th:only-of-type {\n",
              "        vertical-align: middle;\n",
              "    }\n",
              "\n",
              "    .dataframe tbody tr th {\n",
              "        vertical-align: top;\n",
              "    }\n",
              "\n",
              "    .dataframe thead th {\n",
              "        text-align: right;\n",
              "    }\n",
              "</style>\n",
              "<table border=\"1\" class=\"dataframe\">\n",
              "  <thead>\n",
              "    <tr style=\"text-align: right;\">\n",
              "      <th></th>\n",
              "      <th>row_id</th>\n",
              "      <th>meter_reading</th>\n",
              "    </tr>\n",
              "  </thead>\n",
              "  <tbody>\n",
              "    <tr>\n",
              "      <th>0</th>\n",
              "      <td>0</td>\n",
              "      <td>166.216293</td>\n",
              "    </tr>\n",
              "    <tr>\n",
              "      <th>1</th>\n",
              "      <td>1</td>\n",
              "      <td>86.510902</td>\n",
              "    </tr>\n",
              "    <tr>\n",
              "      <th>2</th>\n",
              "      <td>2</td>\n",
              "      <td>4.427500</td>\n",
              "    </tr>\n",
              "    <tr>\n",
              "      <th>3</th>\n",
              "      <td>3</td>\n",
              "      <td>346.088196</td>\n",
              "    </tr>\n",
              "    <tr>\n",
              "      <th>4</th>\n",
              "      <td>4</td>\n",
              "      <td>2271.125977</td>\n",
              "    </tr>\n",
              "  </tbody>\n",
              "</table>\n",
              "</div>"
            ],
            "text/plain": [
              "   row_id  meter_reading\n",
              "0       0     166.216293\n",
              "1       1      86.510902\n",
              "2       2       4.427500\n",
              "3       3     346.088196\n",
              "4       4    2271.125977"
            ]
          },
          "execution_count": 31,
          "metadata": {
            "tags": []
          },
          "output_type": "execute_result"
        }
      ]
    },
    {
      "cell_type": "markdown",
      "metadata": {
        "id": "NzpzaEhslNHK"
      },
      "source": [
        "### Meter_readings which are less than zero are set to zero because meter readings can not be than zero"
      ]
    },
    {
      "cell_type": "code",
      "metadata": {
        "id": "7M1SzY3XpVJj"
      },
      "source": [
        "for i in test_df[test_df['meter_reading']<0].index:\n",
        "    test_df['meter_reading'][i] = 0"
      ],
      "execution_count": null,
      "outputs": []
    },
    {
      "cell_type": "code",
      "metadata": {
        "id": "bWSauZmepZKr"
      },
      "source": [
        "test_df.to_csv('/content/drive/MyDrive/ashrae_Great_Energy_Prediction/xgboost.csv',index=False,header=True)"
      ],
      "execution_count": null,
      "outputs": []
    }
  ]
}