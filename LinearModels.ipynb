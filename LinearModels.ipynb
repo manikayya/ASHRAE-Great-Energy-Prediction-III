{
  "nbformat": 4,
  "nbformat_minor": 0,
  "metadata": {
    "colab": {
      "name": "LinearModels.ipynb",
      "provenance": [],
      "collapsed_sections": [],
      "machine_shape": "hm"
    },
    "kernelspec": {
      "name": "python3",
      "display_name": "Python 3"
    },
    "language_info": {
      "name": "python"
    },
    "accelerator": "GPU"
  },
  "cells": [
    {
      "cell_type": "code",
      "metadata": {
        "id": "IVyawnmppZ26"
      },
      "source": [
        " #importing libraries\n",
        "import pandas as pd\n",
        "import numpy as np\n",
        "from math import sqrt\n",
        "from sklearn.metrics import mean_squared_error\n",
        "import warnings\n",
        "warnings.filterwarnings('ignore')\n",
        "from sklearn.model_selection import KFold\n",
        "import matplotlib.pyplot as plt\n",
        "from sklearn.preprocessing import MinMaxScaler\n",
        "from sklearn.model_selection import RandomizedSearchCV, GridSearchCV\n",
        "from sklearn.linear_model import LinearRegression\n",
        "from sklearn.linear_model import SGDRegressor,Ridge,ElasticNet\n",
        "from tqdm import tqdm\n",
        "import tensorflow as tf"
      ],
      "execution_count": 1,
      "outputs": []
    },
    {
      "cell_type": "code",
      "metadata": {
        "id": "8WR_h06shjdL"
      },
      "source": [
        "#loading training data\n",
        "data = pd.read_feather('/content/drive/MyDrive/ashrae_Great_Energy_Prediction/train_feature_engineering.feather')\n",
        "data.drop('index',axis=1,inplace=True)"
      ],
      "execution_count": 2,
      "outputs": []
    },
    {
      "cell_type": "markdown",
      "metadata": {
        "id": "ctPog4TbflBa"
      },
      "source": [
        "### Drop the features which are not important"
      ]
    },
    {
      "cell_type": "code",
      "metadata": {
        "id": "X2NCZIqVnqQs"
      },
      "source": [
        "data.drop(['site_id','timestamp','wind_speed','wind_direction','is_summer_month','dew_temperature','relative_humidity','meter_reading','sea_level_pressure','cloud_coverage','precip_depth_1_hr','busy_hours','Sensible_Heat','discomfort_index','wind_chill','month'],axis=1,inplace=True)"
      ],
      "execution_count": 3,
      "outputs": []
    },
    {
      "cell_type": "code",
      "metadata": {
        "id": "vH4GpxNarADz"
      },
      "source": [
        "Y_train = data['log_meter_reading'].values\n",
        "X_train = data.drop(['log_meter_reading'],axis = 1)\n",
        "Y_train = Y_train.astype(np.float32)"
      ],
      "execution_count": 4,
      "outputs": []
    },
    {
      "cell_type": "markdown",
      "metadata": {
        "id": "712pHDXC9KHX"
      },
      "source": [
        "## Baseline Model"
      ]
    },
    {
      "cell_type": "code",
      "metadata": {
        "colab": {
          "base_uri": "https://localhost:8080/"
        },
        "id": "XIemfbcOo0fl",
        "outputId": "3ebc893a-9f98-46f7-8e9d-bd384d360b6a"
      },
      "source": [
        "def baseline(y_actual,y_pred) :\n",
        "    # Finding RMSE\n",
        "    result = np.sqrt(np.mean((y_actual - y_pred)*(y_actual-y_pred)))\n",
        "    print(\"The rmse score of baseline model is :\",result)\n",
        "baseline(Y_train,np.median(Y_train))"
      ],
      "execution_count": 5,
      "outputs": [
        {
          "output_type": "stream",
          "text": [
            "The rmse score of baseline model is : 2.0867717\n"
          ],
          "name": "stdout"
        }
      ]
    },
    {
      "cell_type": "markdown",
      "metadata": {
        "id": "1XOdPnGnf5vQ"
      },
      "source": [
        "### Splitting the data for training and validation"
      ]
    },
    {
      "cell_type": "code",
      "metadata": {
        "id": "sJyJXQRKJDWu"
      },
      "source": [
        "split_size = int((len(Y_train)*0.7))\n",
        "x_train,x_test = X_train[0:split_size],X_train[split_size:]\n",
        "y_train,y_test = Y_train[0:split_size],Y_train[split_size:]"
      ],
      "execution_count": 28,
      "outputs": []
    },
    {
      "cell_type": "markdown",
      "metadata": {
        "id": "ismfnN299oEh"
      },
      "source": [
        "## Function for calculating rmsle"
      ]
    },
    {
      "cell_type": "code",
      "metadata": {
        "id": "ztulLcGiJB4n"
      },
      "source": [
        "def RMSLE(y_true:np.ndarray, y_pred:np.ndarray) -> np.float64:\n",
        "    \"\"\"\n",
        "        The Root Mean Squared Log Error (RMSLE) metric \n",
        "        \n",
        "        :param y_true: The ground truth labels given in the dataset\n",
        "        :param y_pred: Our predictions\n",
        "        :return: The RMSLE score\n",
        "    \"\"\"\n",
        "    return np.sqrt(mean_squared_error(y_true, y_pred))"
      ],
      "execution_count": 29,
      "outputs": []
    },
    {
      "cell_type": "markdown",
      "metadata": {
        "id": "kuNggYsf-V0r"
      },
      "source": [
        "# Linear Regression"
      ]
    },
    {
      "cell_type": "code",
      "metadata": {
        "colab": {
          "base_uri": "https://localhost:8080/"
        },
        "id": "aM9il5WSpz_J",
        "outputId": "0824caf4-3b8a-41fb-dc85-a523e6ad2493"
      },
      "source": [
        "lr = LinearRegression(fit_intercept=True,normalize=True,copy_X=True)\n",
        "lr.fit(x_train, y_train)"
      ],
      "execution_count": 35,
      "outputs": [
        {
          "output_type": "execute_result",
          "data": {
            "text/plain": [
              "LinearRegression(copy_X=True, fit_intercept=True, n_jobs=None, normalize=True)"
            ]
          },
          "metadata": {
            "tags": []
          },
          "execution_count": 35
        }
      ]
    },
    {
      "cell_type": "markdown",
      "metadata": {
        "id": "Ok1p1s27g9NQ"
      },
      "source": [
        "### Calculation of rmsle score on predicting validation data using best parameters "
      ]
    },
    {
      "cell_type": "code",
      "metadata": {
        "colab": {
          "base_uri": "https://localhost:8080/"
        },
        "id": "h86q99H0j6kS",
        "outputId": "e766e8f8-e9cb-40c9-f676-9e07ad487344"
      },
      "source": [
        "print('Train RMSLE = ',RMSLE((y_train) , (lr.predict(x_train))))\n",
        "print('Test RMSLE = ',RMSLE((y_test) ,(lr.predict(x_test))))"
      ],
      "execution_count": 36,
      "outputs": [
        {
          "output_type": "stream",
          "text": [
            "Train RMSLE =  1.900923727664107\n",
            "Test RMSLE =  1.9252230906482615\n"
          ],
          "name": "stdout"
        }
      ]
    },
    {
      "cell_type": "markdown",
      "metadata": {
        "id": "AUkEn7n0_VeC"
      },
      "source": [
        "# ElasticNet"
      ]
    },
    {
      "cell_type": "markdown",
      "metadata": {
        "id": "Lq0YQGQe-xQX"
      },
      "source": [
        "### Hyperparameter Tuning"
      ]
    },
    {
      "cell_type": "code",
      "metadata": {
        "colab": {
          "base_uri": "https://localhost:8080/"
        },
        "id": "1Lx9QLBsRwFo",
        "outputId": "02315b8d-7847-4dc8-8608-4e3797d32e69"
      },
      "source": [
        "parameters = {'alpha':[0.001,0.01,0.1,1,10,100,1000,10000],\n",
        "              'fit_intercept' : [False],\n",
        "              'l1_ratio':[0.5]}\n",
        "\n",
        "elastic = GridSearchCV(estimator = ElasticNet(),\n",
        "                        param_grid = parameters,\n",
        "                        cv = 3, \n",
        "                        scoring = 'neg_mean_squared_error',\n",
        "                        verbose = 1,\n",
        "                        return_train_score = True,\n",
        "                        n_jobs = -1)\n",
        "elastic.fit(x_train, y_train)"
      ],
      "execution_count": 7,
      "outputs": [
        {
          "output_type": "stream",
          "text": [
            "Fitting 3 folds for each of 8 candidates, totalling 24 fits\n"
          ],
          "name": "stdout"
        },
        {
          "output_type": "stream",
          "text": [
            "[Parallel(n_jobs=-1)]: Using backend LokyBackend with 4 concurrent workers.\n",
            "[Parallel(n_jobs=-1)]: Done  24 out of  24 | elapsed: 15.6min finished\n"
          ],
          "name": "stderr"
        },
        {
          "output_type": "execute_result",
          "data": {
            "text/plain": [
              "GridSearchCV(cv=3, error_score=nan,\n",
              "             estimator=ElasticNet(alpha=1.0, copy_X=True, fit_intercept=True,\n",
              "                                  l1_ratio=0.5, max_iter=1000, normalize=False,\n",
              "                                  positive=False, precompute=False,\n",
              "                                  random_state=None, selection='cyclic',\n",
              "                                  tol=0.0001, warm_start=False),\n",
              "             iid='deprecated', n_jobs=-1,\n",
              "             param_grid={'alpha': [0.001, 0.01, 0.1, 1, 10, 100, 1000, 10000],\n",
              "                         'fit_intercept': [False], 'l1_ratio': [0.5]},\n",
              "             pre_dispatch='2*n_jobs', refit=True, return_train_score=True,\n",
              "             scoring='neg_mean_squared_error', verbose=1)"
            ]
          },
          "metadata": {
            "tags": []
          },
          "execution_count": 7
        }
      ]
    },
    {
      "cell_type": "code",
      "metadata": {
        "colab": {
          "base_uri": "https://localhost:8080/"
        },
        "id": "J5Po9mXeWQJv",
        "outputId": "87c7744d-b110-4e3e-d47a-eeef753a09b0"
      },
      "source": [
        "print(\"Best Estimator \",elastic.best_estimator_)"
      ],
      "execution_count": 8,
      "outputs": [
        {
          "output_type": "stream",
          "text": [
            "Best Estimator  ElasticNet(alpha=1, copy_X=True, fit_intercept=False, l1_ratio=0.5,\n",
            "           max_iter=1000, normalize=False, positive=False, precompute=False,\n",
            "           random_state=None, selection='cyclic', tol=0.0001, warm_start=False)\n"
          ],
          "name": "stdout"
        }
      ]
    },
    {
      "cell_type": "markdown",
      "metadata": {
        "id": "sx99f30B_JtK"
      },
      "source": [
        "### Fitting the model with the training data with best parameters"
      ]
    },
    {
      "cell_type": "code",
      "metadata": {
        "colab": {
          "base_uri": "https://localhost:8080/"
        },
        "id": "NrkykOlvWJmu",
        "outputId": "9c96c817-ba85-4f79-ac53-73e94d505e2a"
      },
      "source": [
        "elastic_model = ElasticNet(l1_ratio=0.5,fit_intercept=False,alpha = 1)\n",
        "elastic_model.fit(x_train, y_train)"
      ],
      "execution_count": 9,
      "outputs": [
        {
          "output_type": "execute_result",
          "data": {
            "text/plain": [
              "ElasticNet(alpha=1, copy_X=True, fit_intercept=False, l1_ratio=0.5,\n",
              "           max_iter=1000, normalize=False, positive=False, precompute=False,\n",
              "           random_state=None, selection='cyclic', tol=0.0001, warm_start=False)"
            ]
          },
          "metadata": {
            "tags": []
          },
          "execution_count": 9
        }
      ]
    },
    {
      "cell_type": "markdown",
      "metadata": {
        "id": "wPaA8cSD--er"
      },
      "source": [
        "### Calculation of rmsle score on predicting training, validation data using best parameters "
      ]
    },
    {
      "cell_type": "code",
      "metadata": {
        "colab": {
          "base_uri": "https://localhost:8080/"
        },
        "id": "NKJucqa1Wm67",
        "outputId": "f76f0e41-1170-495e-a296-0a9567f9697b"
      },
      "source": [
        "preds = elastic_model.predict(x_test)\n",
        "print('Train RMSLE = ',RMSLE((y_train) , (elastic_model.predict(x_train))))\n",
        "print('Test RMSLE = ',RMSLE(y_test , preds))"
      ],
      "execution_count": 11,
      "outputs": [
        {
          "output_type": "stream",
          "text": [
            "Train RMSLE =  1.914597700808356\n",
            "Test RMSLE =  1.9347195985270218\n"
          ],
          "name": "stdout"
        }
      ]
    },
    {
      "cell_type": "markdown",
      "metadata": {
        "id": "RLFlyaUc_ejP"
      },
      "source": [
        "# Ridge"
      ]
    },
    {
      "cell_type": "markdown",
      "metadata": {
        "id": "NziNgGGS-z9o"
      },
      "source": [
        "### Hyperparameter Tuning"
      ]
    },
    {
      "cell_type": "code",
      "metadata": {
        "colab": {
          "base_uri": "https://localhost:8080/"
        },
        "id": "ZRwE-YcaOssV",
        "outputId": "1b728864-d47d-42b7-e1b2-9979b2488172"
      },
      "source": [
        "parameters = {'alpha':[0.001,0.01,0.1,1,10,100,1000,10000],\n",
        "              'fit_intercept' : [True],\n",
        "              'solver' : ['lsqr']}\n",
        "\n",
        "ridge = GridSearchCV(estimator = Ridge(),\n",
        "                        param_grid = parameters,\n",
        "                        cv = 3, \n",
        "                        scoring = 'neg_mean_squared_error',\n",
        "                        verbose = 10,\n",
        "                        return_train_score = True,\n",
        "                        n_jobs = -1)\n",
        "ridge.fit(x_train, y_train)"
      ],
      "execution_count": 31,
      "outputs": [
        {
          "output_type": "stream",
          "text": [
            "Fitting 3 folds for each of 8 candidates, totalling 24 fits\n"
          ],
          "name": "stdout"
        },
        {
          "output_type": "stream",
          "text": [
            "[Parallel(n_jobs=-1)]: Using backend LokyBackend with 4 concurrent workers.\n",
            "[Parallel(n_jobs=-1)]: Done   5 tasks      | elapsed:   12.3s\n",
            "[Parallel(n_jobs=-1)]: Done  10 tasks      | elapsed:   18.4s\n",
            "[Parallel(n_jobs=-1)]: Done  17 tasks      | elapsed:   29.7s\n",
            "[Parallel(n_jobs=-1)]: Done  20 out of  24 | elapsed:   30.8s remaining:    6.2s\n",
            "[Parallel(n_jobs=-1)]: Done  24 out of  24 | elapsed:   36.1s finished\n"
          ],
          "name": "stderr"
        },
        {
          "output_type": "execute_result",
          "data": {
            "text/plain": [
              "GridSearchCV(cv=3, error_score=nan,\n",
              "             estimator=Ridge(alpha=1.0, copy_X=True, fit_intercept=True,\n",
              "                             max_iter=None, normalize=False, random_state=None,\n",
              "                             solver='auto', tol=0.001),\n",
              "             iid='deprecated', n_jobs=-1,\n",
              "             param_grid={'alpha': [0.001, 0.01, 0.1, 1, 10, 100, 1000, 10000],\n",
              "                         'fit_intercept': [True], 'solver': ['lsqr']},\n",
              "             pre_dispatch='2*n_jobs', refit=True, return_train_score=True,\n",
              "             scoring='neg_mean_squared_error', verbose=10)"
            ]
          },
          "metadata": {
            "tags": []
          },
          "execution_count": 31
        }
      ]
    },
    {
      "cell_type": "code",
      "metadata": {
        "colab": {
          "base_uri": "https://localhost:8080/"
        },
        "id": "jWQjFsdiQQui",
        "outputId": "4ffaebb7-4275-49bd-979f-fe8f13c1ab6c"
      },
      "source": [
        "print(\"Best Estimator \",ridge.best_estimator_)"
      ],
      "execution_count": 32,
      "outputs": [
        {
          "output_type": "stream",
          "text": [
            "Best Estimator  Ridge(alpha=10000, copy_X=True, fit_intercept=True, max_iter=None,\n",
            "      normalize=False, random_state=None, solver='lsqr', tol=0.001)\n"
          ],
          "name": "stdout"
        }
      ]
    },
    {
      "cell_type": "markdown",
      "metadata": {
        "id": "dgHKRWXXgfkJ"
      },
      "source": [
        "### Fitting the model with the training data with best parameters"
      ]
    },
    {
      "cell_type": "code",
      "metadata": {
        "colab": {
          "base_uri": "https://localhost:8080/"
        },
        "id": "yYRUV8yBQY2c",
        "outputId": "139fd8e1-aff0-45d1-9c1e-dd9c289e34c3"
      },
      "source": [
        "ridge_model = Ridge(solver = \"lsqr\", fit_intercept=True,alpha = 10000)\n",
        "ridge_model.fit(x_train, y_train)"
      ],
      "execution_count": 33,
      "outputs": [
        {
          "output_type": "execute_result",
          "data": {
            "text/plain": [
              "Ridge(alpha=10000, copy_X=True, fit_intercept=True, max_iter=None,\n",
              "      normalize=False, random_state=None, solver='lsqr', tol=0.001)"
            ]
          },
          "metadata": {
            "tags": []
          },
          "execution_count": 33
        }
      ]
    },
    {
      "cell_type": "markdown",
      "metadata": {
        "id": "Qmz_HEal_C-M"
      },
      "source": [
        "### Calculation of rmsle score on predicting training, validation data using best parameters "
      ]
    },
    {
      "cell_type": "code",
      "metadata": {
        "colab": {
          "base_uri": "https://localhost:8080/"
        },
        "id": "XdYYhO3PQsI8",
        "outputId": "e0a3902c-8ff3-4b67-dd84-f01fbecfe940"
      },
      "source": [
        "preds = ridge_model.predict(x_test)\n",
        "print('Train RMSLE = ',RMSLE((y_train) , (ridge_model.predict(x_train))))\n",
        "print('Test RMSLE = ',RMSLE(y_test , preds))"
      ],
      "execution_count": 34,
      "outputs": [
        {
          "output_type": "stream",
          "text": [
            "Train RMSLE =  1.9212876509080787\n",
            "Test RMSLE =  1.9279760013248401\n"
          ],
          "name": "stdout"
        }
      ]
    },
    {
      "cell_type": "code",
      "metadata": {
        "colab": {
          "base_uri": "https://localhost:8080/"
        },
        "id": "6gRBFv87jhUV",
        "outputId": "045a8df9-c25e-40b7-8654-cb738bb50736"
      },
      "source": [
        "from prettytable import PrettyTable\n",
        "  \n",
        "# Specify the Column Names while initializing the Table\n",
        "myTable = PrettyTable([\"Model\",\"Train RMSLE\",\"Test RMSLE\"])\n",
        "  \n",
        "# Add rows\n",
        "myTable.add_row([\"LinearRegression\", \"1.9\", \"1.925\"])\n",
        "myTable.add_row([\"ElasticNet\", \"1.914\", \"1.934\"])\n",
        "myTable.add_row([\"RidgeRegressor\", \"1.921\", \"1.927\"])\n",
        "print(myTable)"
      ],
      "execution_count": 37,
      "outputs": [
        {
          "output_type": "stream",
          "text": [
            "+------------------+-------------+------------+\n",
            "|      Model       | Train RMSLE | Test RMSLE |\n",
            "+------------------+-------------+------------+\n",
            "| LinearRegression |     1.9     |   1.925    |\n",
            "|    ElasticNet    |    1.914    |   1.934    |\n",
            "|  RidgeRegressor  |    1.921    |   1.927    |\n",
            "+------------------+-------------+------------+\n"
          ],
          "name": "stdout"
        }
      ]
    },
    {
      "cell_type": "markdown",
      "metadata": {
        "id": "pcUQlq6Glowt"
      },
      "source": [
        "*  LinearRegression showing better results than ElasticNet and Ridge"
      ]
    },
    {
      "cell_type": "code",
      "metadata": {
        "id": "Wn_OBdJBXAA8"
      },
      "source": [
        "#Loading test data\n",
        "df = pd.read_feather('/content/drive/MyDrive/ashrae_Great_Energy_Prediction/test_data_final.feather')\n",
        "df.drop('index',axis=1,inplace=True)"
      ],
      "execution_count": 13,
      "outputs": []
    },
    {
      "cell_type": "markdown",
      "metadata": {
        "id": "--Xj1yt1iJwL"
      },
      "source": [
        "### Drop the unimportant features"
      ]
    },
    {
      "cell_type": "code",
      "metadata": {
        "id": "H3bdxJh8XxcZ"
      },
      "source": [
        "df.drop(['row_id','site_id','timestamp','wind_speed','wind_direction','is_summer_month','dew_temperature','relative_humidity','sea_level_pressure','cloud_coverage','precip_depth_1_hr','busy_hours','Sensible_Heat','discomfort_index','wind_chill','month'],axis=1,inplace=True)"
      ],
      "execution_count": 14,
      "outputs": []
    },
    {
      "cell_type": "code",
      "metadata": {
        "id": "gclod08xjpWk"
      },
      "source": [
        "lr = LinearRegression(fit_intercept=True,normalize=True,copy_X=True)"
      ],
      "execution_count": 16,
      "outputs": []
    },
    {
      "cell_type": "code",
      "metadata": {
        "colab": {
          "base_uri": "https://localhost:8080/"
        },
        "id": "xNI1EfRfj73J",
        "outputId": "36afb575-0908-4a3c-95a7-190e13ff27c7"
      },
      "source": [
        "lr.fit(X_train,Y_train)"
      ],
      "execution_count": 17,
      "outputs": [
        {
          "output_type": "execute_result",
          "data": {
            "text/plain": [
              "LinearRegression(copy_X=True, fit_intercept=True, n_jobs=None, normalize=True)"
            ]
          },
          "metadata": {
            "tags": []
          },
          "execution_count": 17
        }
      ]
    },
    {
      "cell_type": "code",
      "metadata": {
        "id": "k4B4XW3LjgUS"
      },
      "source": [
        "y_test=lr.predict(df)"
      ],
      "execution_count": 18,
      "outputs": []
    },
    {
      "cell_type": "code",
      "metadata": {
        "id": "smqLb7Z4tG1J"
      },
      "source": [
        "y_test=np.expm1(y_test)"
      ],
      "execution_count": 21,
      "outputs": []
    },
    {
      "cell_type": "code",
      "metadata": {
        "id": "2D48vwwGtKL0"
      },
      "source": [
        "test = np.round(y_test,4)"
      ],
      "execution_count": 22,
      "outputs": []
    },
    {
      "cell_type": "code",
      "metadata": {
        "colab": {
          "base_uri": "https://localhost:8080/",
          "height": 205
        },
        "id": "hnQ9WAuLtOTl",
        "outputId": "f9a2ed0b-fc7c-4faa-e156-dff67a8290ee"
      },
      "source": [
        "test_df = pd.DataFrame(data=test,columns={'meter_reading'})\n",
        "test_df['row_id'] = test_df.index\n",
        "test_df = test_df[['row_id','meter_reading']]\n",
        "test_df.head()"
      ],
      "execution_count": 23,
      "outputs": [
        {
          "output_type": "execute_result",
          "data": {
            "text/html": [
              "<div>\n",
              "<style scoped>\n",
              "    .dataframe tbody tr th:only-of-type {\n",
              "        vertical-align: middle;\n",
              "    }\n",
              "\n",
              "    .dataframe tbody tr th {\n",
              "        vertical-align: top;\n",
              "    }\n",
              "\n",
              "    .dataframe thead th {\n",
              "        text-align: right;\n",
              "    }\n",
              "</style>\n",
              "<table border=\"1\" class=\"dataframe\">\n",
              "  <thead>\n",
              "    <tr style=\"text-align: right;\">\n",
              "      <th></th>\n",
              "      <th>row_id</th>\n",
              "      <th>meter_reading</th>\n",
              "    </tr>\n",
              "  </thead>\n",
              "  <tbody>\n",
              "    <tr>\n",
              "      <th>0</th>\n",
              "      <td>0</td>\n",
              "      <td>32.9184</td>\n",
              "    </tr>\n",
              "    <tr>\n",
              "      <th>1</th>\n",
              "      <td>1</td>\n",
              "      <td>30.5865</td>\n",
              "    </tr>\n",
              "    <tr>\n",
              "      <th>2</th>\n",
              "      <td>2</td>\n",
              "      <td>27.1286</td>\n",
              "    </tr>\n",
              "    <tr>\n",
              "      <th>3</th>\n",
              "      <td>3</td>\n",
              "      <td>34.4685</td>\n",
              "    </tr>\n",
              "    <tr>\n",
              "      <th>4</th>\n",
              "      <td>4</td>\n",
              "      <td>48.0765</td>\n",
              "    </tr>\n",
              "  </tbody>\n",
              "</table>\n",
              "</div>"
            ],
            "text/plain": [
              "   row_id  meter_reading\n",
              "0       0        32.9184\n",
              "1       1        30.5865\n",
              "2       2        27.1286\n",
              "3       3        34.4685\n",
              "4       4        48.0765"
            ]
          },
          "metadata": {
            "tags": []
          },
          "execution_count": 23
        }
      ]
    },
    {
      "cell_type": "markdown",
      "metadata": {
        "id": "NzpzaEhslNHK"
      },
      "source": [
        "### Meter_readings which are less than zero are set to zero because meter readings can not be than zero"
      ]
    },
    {
      "cell_type": "code",
      "metadata": {
        "id": "7JVc0ipQz5sj"
      },
      "source": [
        "for i in test_df[test_df['meter_reading']<0].index: \n",
        "    \n",
        "    test_df['meter_reading'][i] = 0"
      ],
      "execution_count": 24,
      "outputs": []
    },
    {
      "cell_type": "code",
      "metadata": {
        "id": "pW7B0uBn27ZU"
      },
      "source": [
        "test_df.to_csv('/content/drive/MyDrive/ashrae_Great_Energy_Prediction/linearmodels.csv',index=False,header=True)"
      ],
      "execution_count": 25,
      "outputs": []
    }
  ]
}